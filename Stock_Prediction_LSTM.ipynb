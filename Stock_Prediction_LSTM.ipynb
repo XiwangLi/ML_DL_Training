{
  "nbformat": 4,
  "nbformat_minor": 0,
  "metadata": {
    "colab": {
      "name": "Prediction_RNN.ipynb",
      "version": "0.3.2",
      "provenance": []
    },
    "kernelspec": {
      "name": "python3",
      "display_name": "Python 3"
    },
    "accelerator": "GPU"
  },
  "cells": [
    {
      "metadata": {
        "id": "v3CJpGw6nUaa",
        "colab_type": "code",
        "colab": {}
      },
      "cell_type": "code",
      "source": [
        "import time\n",
        "import math\n",
        "from keras.models import Sequential\n",
        "from keras.layers.core import Dense, Dropout, Activation\n",
        "from keras.layers.recurrent import LSTM\n",
        "import numpy as np\n",
        "import pandas as pd\n",
        "import sklearn.preprocessing as prep\n",
        "\n",
        "import matplotlib\n",
        "import matplotlib.pyplot as plt\n",
        "%matplotlib inline \n",
        "\n"
      ],
      "execution_count": 0,
      "outputs": []
    },
    {
      "metadata": {
        "id": "wc_jOo0OmHPg",
        "colab_type": "code",
        "outputId": "1acef2f0-ed22-4b9f-8fd2-ea3c0a6dd911",
        "colab": {
          "base_uri": "https://localhost:8080/",
          "height": 235
        }
      },
      "cell_type": "code",
      "source": [
        "!wget 'https://raw.githubusercontent.com/Kulbear/stock-prediction/master/000002-from-1995-01-01.csv'"
      ],
      "execution_count": 2,
      "outputs": [
        {
          "output_type": "stream",
          "text": [
            "--2019-01-07 19:41:57--  https://raw.githubusercontent.com/Kulbear/stock-prediction/master/000002-from-1995-01-01.csv\n",
            "Resolving raw.githubusercontent.com (raw.githubusercontent.com)... 151.101.0.133, 151.101.64.133, 151.101.128.133, ...\n",
            "Connecting to raw.githubusercontent.com (raw.githubusercontent.com)|151.101.0.133|:443... connected.\n",
            "HTTP request sent, awaiting response... 200 OK\n",
            "Length: 224023 (219K) [text/plain]\n",
            "Saving to: ‘000002-from-1995-01-01.csv’\n",
            "\n",
            "\r          000002-fr   0%[                    ]       0  --.-KB/s               \r000002-from-1995-01 100%[===================>] 218.77K  --.-KB/s    in 0.04s   \n",
            "\n",
            "2019-01-07 19:41:57 (5.40 MB/s) - ‘000002-from-1995-01-01.csv’ saved [224023/224023]\n",
            "\n"
          ],
          "name": "stdout"
        }
      ]
    },
    {
      "metadata": {
        "id": "oSYd7iusmz75",
        "colab_type": "code",
        "outputId": "4178f9c3-e49b-4221-ed2d-e62c7d5c0076",
        "colab": {
          "base_uri": "https://localhost:8080/",
          "height": 204
        }
      },
      "cell_type": "code",
      "source": [
        "df = pd.read_csv('000002-from-1995-01-01.csv')\n",
        "df.head()"
      ],
      "execution_count": 3,
      "outputs": [
        {
          "output_type": "execute_result",
          "data": {
            "text/html": [
              "<div>\n",
              "<style scoped>\n",
              "    .dataframe tbody tr th:only-of-type {\n",
              "        vertical-align: middle;\n",
              "    }\n",
              "\n",
              "    .dataframe tbody tr th {\n",
              "        vertical-align: top;\n",
              "    }\n",
              "\n",
              "    .dataframe thead th {\n",
              "        text-align: right;\n",
              "    }\n",
              "</style>\n",
              "<table border=\"1\" class=\"dataframe\">\n",
              "  <thead>\n",
              "    <tr style=\"text-align: right;\">\n",
              "      <th></th>\n",
              "      <th>open</th>\n",
              "      <th>high</th>\n",
              "      <th>low</th>\n",
              "      <th>volume</th>\n",
              "      <th>amount</th>\n",
              "      <th>close</th>\n",
              "    </tr>\n",
              "  </thead>\n",
              "  <tbody>\n",
              "    <tr>\n",
              "      <th>0</th>\n",
              "      <td>20.64</td>\n",
              "      <td>20.64</td>\n",
              "      <td>20.37</td>\n",
              "      <td>16362363.0</td>\n",
              "      <td>3.350027e+08</td>\n",
              "      <td>20.56</td>\n",
              "    </tr>\n",
              "    <tr>\n",
              "      <th>1</th>\n",
              "      <td>20.92</td>\n",
              "      <td>20.92</td>\n",
              "      <td>20.60</td>\n",
              "      <td>21850597.0</td>\n",
              "      <td>4.520071e+08</td>\n",
              "      <td>20.64</td>\n",
              "    </tr>\n",
              "    <tr>\n",
              "      <th>2</th>\n",
              "      <td>21.00</td>\n",
              "      <td>21.15</td>\n",
              "      <td>20.72</td>\n",
              "      <td>26910139.0</td>\n",
              "      <td>5.628396e+08</td>\n",
              "      <td>20.94</td>\n",
              "    </tr>\n",
              "    <tr>\n",
              "      <th>3</th>\n",
              "      <td>20.70</td>\n",
              "      <td>21.57</td>\n",
              "      <td>20.70</td>\n",
              "      <td>64585536.0</td>\n",
              "      <td>1.363421e+09</td>\n",
              "      <td>21.02</td>\n",
              "    </tr>\n",
              "    <tr>\n",
              "      <th>4</th>\n",
              "      <td>20.60</td>\n",
              "      <td>20.70</td>\n",
              "      <td>20.20</td>\n",
              "      <td>45886018.0</td>\n",
              "      <td>9.382043e+08</td>\n",
              "      <td>20.70</td>\n",
              "    </tr>\n",
              "  </tbody>\n",
              "</table>\n",
              "</div>"
            ],
            "text/plain": [
              "    open   high    low      volume        amount  close\n",
              "0  20.64  20.64  20.37  16362363.0  3.350027e+08  20.56\n",
              "1  20.92  20.92  20.60  21850597.0  4.520071e+08  20.64\n",
              "2  21.00  21.15  20.72  26910139.0  5.628396e+08  20.94\n",
              "3  20.70  21.57  20.70  64585536.0  1.363421e+09  21.02\n",
              "4  20.60  20.70  20.20  45886018.0  9.382043e+08  20.70"
            ]
          },
          "metadata": {
            "tags": []
          },
          "execution_count": 3
        }
      ]
    },
    {
      "metadata": {
        "id": "cC-X_6mzn1Hs",
        "colab_type": "code",
        "colab": {}
      },
      "cell_type": "code",
      "source": [
        "def feature_scaler(X_train, X_test):\n",
        "    train_samples, train_nx, train_ny = X_train.shape\n",
        "    test_samples, test_nx, test_ny = X_test.shape\n",
        "    \n",
        "    X_train = X_train.reshape((train_samples, train_nx * train_ny))\n",
        "    X_test = X_test.reshape((test_samples, test_nx * test_ny))\n",
        "    \n",
        "    preprocessor = prep.StandardScaler().fit(X_train)\n",
        "    X_train = preprocessor.transform(X_train)\n",
        "    X_test = preprocessor.transform(X_test)\n",
        "    \n",
        "    X_train = X_train.reshape((train_samples, train_nx, train_ny))\n",
        "    X_test = X_test.reshape((test_samples, test_nx, test_ny))\n",
        "    \n",
        "    return X_train, X_test"
      ],
      "execution_count": 0,
      "outputs": []
    },
    {
      "metadata": {
        "id": "NUBuM04KqOGS",
        "colab_type": "code",
        "colab": {}
      },
      "cell_type": "code",
      "source": [
        "def data_preprocess(stock, seq_len):\n",
        "  amount_of_features = len(stock.columns)\n",
        "  data = stock.values\n",
        "\n",
        "  sequence_length = seq_len + 1\n",
        "  sequence = []\n",
        "  for index in range(len(data) - sequence_length):\n",
        "      sequence.append(data[index : index + sequence_length])\n",
        "\n",
        "  sequence = np.array(sequence)\n",
        "#   print (sequence.shape)\n",
        "  row = (0.9 * sequence.shape[0])\n",
        "  train = sequence[: int(row), :]\n",
        "  test = sequence[int(row) :, :]\n",
        "\n",
        "  train, test = feature_scaler(train, test)\n",
        "  \n",
        "#   test_test = test[:,-1, -1]\n",
        "#   print (train.shape, test.shape, test_test.shape)\n",
        "\n",
        "  X_train = train[:, : -1]\n",
        "  y_train = train[:, -1][: ,-1]\n",
        "  X_test = test[:, : -1]\n",
        "  y_test = test[:, -1][ : ,-1]\n",
        "\n",
        "  X_train = np.reshape(X_train, (X_train.shape[0], X_train.shape[1], amount_of_features))\n",
        "  X_test = np.reshape(X_test, (X_test.shape[0], X_test.shape[1], amount_of_features))  \n",
        "\n",
        "  return [X_train, y_train, X_test, y_test]\n",
        "\n",
        "  "
      ],
      "execution_count": 0,
      "outputs": []
    },
    {
      "metadata": {
        "id": "gxt1hWov1lus",
        "colab_type": "code",
        "colab": {}
      },
      "cell_type": "code",
      "source": [
        "X_train, y_train, X_test, y_test = data_preprocess(df, 20)"
      ],
      "execution_count": 0,
      "outputs": []
    },
    {
      "metadata": {
        "id": "cEVopMKH1son",
        "colab_type": "code",
        "colab": {
          "base_uri": "https://localhost:8080/",
          "height": 34
        },
        "outputId": "07d1bc54-8d9a-487c-9955-b25cdbefcbf2"
      },
      "cell_type": "code",
      "source": [
        "X_train.shape, y_train.shape, X_test.shape, y_test.shape "
      ],
      "execution_count": 118,
      "outputs": [
        {
          "output_type": "execute_result",
          "data": {
            "text/plain": [
              "((4647, 20, 6), (4647,), (517, 20, 6), (517,))"
            ]
          },
          "metadata": {
            "tags": []
          },
          "execution_count": 118
        }
      ]
    },
    {
      "metadata": {
        "id": "I3lN2pEY2EUP",
        "colab_type": "code",
        "colab": {}
      },
      "cell_type": "code",
      "source": [
        "def build_model(channel):\n",
        "  \n",
        "  model = Sequential()\n",
        "\n",
        "  # By setting return_sequences to True we are able to stack another LSTM layer\n",
        "  model.add(LSTM(input_dim=channel,output_dim=20,return_sequences=True))\n",
        "  model.add(Dropout(0.4))\n",
        "\n",
        "  model.add(LSTM(100,return_sequences=False))\n",
        "  model.add(Dropout(0.3))\n",
        "\n",
        "  model.add(Dense(output_dim=1))\n",
        "  model.add(Activation(\"linear\"))\n",
        "\n",
        "  start = time.time()\n",
        "  model.compile(loss=\"mse\", optimizer=\"rmsprop\", metrics=['accuracy'])\n",
        "  print(\"Compilation Time : \", time.time() - start)\n",
        "  return model"
      ],
      "execution_count": 0,
      "outputs": []
    },
    {
      "metadata": {
        "id": "d0sZWJPq2RLS",
        "colab_type": "code",
        "colab": {
          "base_uri": "https://localhost:8080/",
          "height": 85
        },
        "outputId": "55181921-3740-4a7f-997c-270142931085"
      },
      "cell_type": "code",
      "source": [
        "window = 20\n",
        "X_train, y_train, X_test, y_test = data_preprocess(df, window)\n",
        "print(\"X_train\", X_train.shape)\n",
        "print(\"y_train\", y_train.shape)\n",
        "print(\"X_test\", X_test.shape)\n",
        "print(\"y_test\", y_test.shape)\n"
      ],
      "execution_count": 125,
      "outputs": [
        {
          "output_type": "stream",
          "text": [
            "X_train (4647, 20, 6)\n",
            "y_train (4647,)\n",
            "X_test (517, 20, 6)\n",
            "y_test (517,)\n"
          ],
          "name": "stdout"
        }
      ]
    },
    {
      "metadata": {
        "id": "Wi79QEEE2UAt",
        "colab_type": "code",
        "colab": {
          "base_uri": "https://localhost:8080/",
          "height": 156
        },
        "outputId": "86699281-41b6-4efd-d133-78c866f183d1"
      },
      "cell_type": "code",
      "source": [
        "channel = X_train.shape[2]\n",
        "\n",
        "model = build_model(channel)"
      ],
      "execution_count": 126,
      "outputs": [
        {
          "output_type": "stream",
          "text": [
            "/usr/local/lib/python3.6/dist-packages/ipykernel_launcher.py:6: UserWarning: The `input_dim` and `input_length` arguments in recurrent layers are deprecated. Use `input_shape` instead.\n",
            "  \n",
            "/usr/local/lib/python3.6/dist-packages/ipykernel_launcher.py:6: UserWarning: Update your `LSTM` call to the Keras 2 API: `LSTM(return_sequences=True, input_shape=(None, 6), units=20)`\n",
            "  \n"
          ],
          "name": "stderr"
        },
        {
          "output_type": "stream",
          "text": [
            "Compilation Time :  0.03286862373352051\n"
          ],
          "name": "stdout"
        },
        {
          "output_type": "stream",
          "text": [
            "/usr/local/lib/python3.6/dist-packages/ipykernel_launcher.py:12: UserWarning: Update your `Dense` call to the Keras 2 API: `Dense(units=1)`\n",
            "  if sys.path[0] == '':\n"
          ],
          "name": "stderr"
        }
      ]
    },
    {
      "metadata": {
        "id": "zac1o5ZD2h9t",
        "colab_type": "code",
        "colab": {
          "base_uri": "https://localhost:8080/",
          "height": 391
        },
        "outputId": "ca0543c4-1e3d-4b69-a762-ea6fe0db685a"
      },
      "cell_type": "code",
      "source": [
        "model.fit(\n",
        "    X_train,\n",
        "    y_train,\n",
        "    batch_size=768,\n",
        "    epochs=10,\n",
        "    validation_split=0.1,\n",
        "    verbose=2)"
      ],
      "execution_count": 127,
      "outputs": [
        {
          "output_type": "stream",
          "text": [
            "Train on 4182 samples, validate on 465 samples\n",
            "Epoch 1/10\n",
            " - 3s - loss: 0.3836 - acc: 0.0000e+00 - val_loss: 0.0600 - val_acc: 0.0000e+00\n",
            "Epoch 2/10\n",
            " - 1s - loss: 0.0885 - acc: 0.0000e+00 - val_loss: 0.0484 - val_acc: 0.0000e+00\n",
            "Epoch 3/10\n",
            " - 1s - loss: 0.0650 - acc: 0.0000e+00 - val_loss: 0.0460 - val_acc: 0.0000e+00\n",
            "Epoch 4/10\n",
            " - 1s - loss: 0.0580 - acc: 0.0000e+00 - val_loss: 0.0669 - val_acc: 0.0000e+00\n",
            "Epoch 5/10\n",
            " - 1s - loss: 0.0661 - acc: 0.0000e+00 - val_loss: 0.0454 - val_acc: 0.0000e+00\n",
            "Epoch 6/10\n",
            " - 1s - loss: 0.0498 - acc: 0.0000e+00 - val_loss: 0.0397 - val_acc: 0.0000e+00\n",
            "Epoch 7/10\n",
            " - 1s - loss: 0.0609 - acc: 0.0000e+00 - val_loss: 0.0404 - val_acc: 0.0000e+00\n",
            "Epoch 8/10\n",
            " - 1s - loss: 0.0406 - acc: 0.0000e+00 - val_loss: 0.0369 - val_acc: 0.0000e+00\n",
            "Epoch 9/10\n",
            " - 1s - loss: 0.0433 - acc: 0.0000e+00 - val_loss: 0.0587 - val_acc: 0.0000e+00\n",
            "Epoch 10/10\n",
            " - 1s - loss: 0.0578 - acc: 0.0000e+00 - val_loss: 0.0413 - val_acc: 0.0000e+00\n"
          ],
          "name": "stdout"
        },
        {
          "output_type": "execute_result",
          "data": {
            "text/plain": [
              "<keras.callbacks.History at 0x7f5632c48c88>"
            ]
          },
          "metadata": {
            "tags": []
          },
          "execution_count": 127
        }
      ]
    },
    {
      "metadata": {
        "id": "BMrMLAiG2l8m",
        "colab_type": "code",
        "colab": {
          "base_uri": "https://localhost:8080/",
          "height": 299
        },
        "outputId": "60c9160c-e67e-4c31-af43-c7ff712ec20c"
      },
      "cell_type": "code",
      "source": [
        "trainScore = model.evaluate(X_train, y_train, verbose=0)\n",
        "print('Train Score: %.2f MSE (%.2f RMSE)' % (trainScore[0], math.sqrt(trainScore[0])))\n",
        "\n",
        "testScore = model.evaluate(X_test, y_test, verbose=0)\n",
        "print('Test Score: %.2f MSE (%.2f RMSE)' % (testScore[0], math.sqrt(testScore[0])))\n",
        "\n",
        "pred = model.predict(X_test)\n",
        "\n",
        "plt.plot(pred, color='red', label='Prediction')\n",
        "plt.plot(y_test, color='blue', label='real price')\n",
        "plt.legend(loc='upper right')\n",
        "plt.show()"
      ],
      "execution_count": 128,
      "outputs": [
        {
          "output_type": "stream",
          "text": [
            "Train Score: 0.04 MSE (0.19 RMSE)\n",
            "Test Score: 0.01 MSE (0.12 RMSE)\n"
          ],
          "name": "stdout"
        },
        {
          "output_type": "display_data",
          "data": {
            "image/png": "[encoded data removed]",
            "text/plain": [
              "<matplotlib.figure.Figure at 0x7f5630534588>"
            ]
          },
          "metadata": {
            "tags": []
          }
        }
      ]
    },
    {
      "metadata": {
        "id": "uE79bEha3W4w",
        "colab_type": "code",
        "colab": {}
      },
      "cell_type": "code",
      "source": [
        ""
      ],
      "execution_count": 0,
      "outputs": []
    }
  ]
}