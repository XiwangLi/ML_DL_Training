{
 "cells": [
  {
   "cell_type": "markdown",
   "metadata": {
    "colab_type": "text",
    "id": "v7N2Ct61Gf-7"
   },
   "source": [
    "# Introduction to PyTorch - ODSC West 2018\n",
    "\n",
    "## Robert Alvarez - Senior Data Scientist at Metis\n",
    "\n",
    "\n",
    "![](http://community.datacamp.com.s3.amazonaws.com/community/production/ckeditor_assets/pictures/248/content_odsc.png)\n",
    "\n",
    "![](https://devblogs.nvidia.com/wp-content/uploads/2017/04/pytorch-logo-dark.png)"
   ]
  },
  {
   "cell_type": "markdown",
   "metadata": {
    "colab_type": "text",
    "id": "qEmpq68HGf-9"
   },
   "source": [
    "# Installing PyTorch (on Google Server)\n",
    "\n",
    "Go to https://colab.research.google.com and sign in with your Google account. If you do not have a Google account you can create one. From there you can create a new notebook."
   ]
  },
  {
   "cell_type": "code",
   "execution_count": 1,
   "metadata": {
    "colab": {
     "base_uri": "https://localhost:8080/",
     "height": 195
    },
    "colab_type": "code",
    "id": "Q1KmEdUvGf-_",
    "outputId": "b0292c80-b74f-483c-b592-f68e89cb41f3"
   },
   "outputs": [
    {
     "name": "stdout",
     "output_type": "stream",
     "text": [
      "Collecting pillow\n",
      "\u001b[?25l  Downloading https://files.pythonhosted.org/packages/62/94/5430ebaa83f91cc7a9f687ff5238e26164a779cca2ef9903232268b0a318/Pillow-5.3.0-cp36-cp36m-manylinux1_x86_64.whl (2.0MB)\n",
      "\u001b[K    100% |████████████████████████████████| 2.0MB 13.0MB/s \n",
      "\u001b[?25hInstalling collected packages: pillow\n",
      "Successfully installed pillow-5.3.0\n",
      "Requirement already satisfied: unidecode in /usr/local/lib/python3.6/dist-packages (1.0.22)\n"
     ]
    }
   ],
   "source": [
    "# http://pytorch.org/\n",
    "from os.path import exists\n",
    "from wheel.pep425tags import get_abbr_impl, get_impl_ver, get_abi_tag\n",
    "platform = '{}{}-{}'.format(get_abbr_impl(), get_impl_ver(), get_abi_tag())\n",
    "cuda_output = !ldconfig -p|grep cudart.so|sed -e 's/.*\\.\\([0-9]*\\)\\.\\([0-9]*\\)$/cu\\1\\2/'\n",
    "accelerator = cuda_output[0] if exists('/dev/nvidia0') else 'cpu'\n",
    "\n",
    "!pip install --no-cache-dir -I pillow\n",
    "!pip install unidecode\n",
    "\n",
    "!pip install -q http://download.pytorch.org/whl/{accelerator}/torch-0.4.1-{platform}-linux_x86_64.whl torchvision"
   ]
  },
  {
   "cell_type": "code",
   "execution_count": 3,
   "metadata": {
    "colab": {
     "base_uri": "https://localhost:8080/",
     "height": 17
    },
    "colab_type": "code",
    "id": "iMn2cMtSGf_C",
    "outputId": "3c01467c-bb1a-4ebb-debe-8bb331abeb1d"
   },
   "outputs": [
    {
     "data": {
      "text/html": [
       "<style>.container { width:95% !important; }</style>"
      ],
      "text/plain": [
       "<IPython.core.display.HTML object>"
      ]
     },
     "metadata": {
      "tags": []
     },
     "output_type": "display_data"
    }
   ],
   "source": [
    "# usual suspects\n",
    "import os\n",
    "import time\n",
    "import shutil\n",
    "import requests\n",
    "import zipfile\n",
    "from PIL import Image\n",
    "\n",
    "import numpy as np\n",
    "import pandas as pd\n",
    "from cycler import cycler\n",
    "\n",
    "# the good stuff\n",
    "import torch\n",
    "import torch.nn as nn\n",
    "from torch.autograd import Variable\n",
    "import torch.nn.functional as F\n",
    "from torch.utils.data import Dataset, DataLoader\n",
    "import torchvision\n",
    "from torchvision import datasets, models, transforms\n",
    "\n",
    "# standard sklearn import\n",
    "from sklearn.metrics import accuracy_score\n",
    "\n",
    "# minor changes to plotting functions\n",
    "import matplotlib.pyplot as plt\n",
    "cmap=plt.cm.tab10\n",
    "c = cycler('color', cmap(np.linspace(0,1,10)))\n",
    "plt.rcParams[\"axes.prop_cycle\"] = c\n",
    "\n",
    "\n",
    "%matplotlib inline\n",
    "\n",
    "# change margin size of jupyter notebook\n",
    "from IPython.core.display import display, HTML\n",
    "display(HTML(\"<style>.container { width:95% !important; }</style>\"))\n"
   ]
  },
  {
   "cell_type": "code",
   "execution_count": 0,
   "metadata": {
    "colab": {},
    "colab_type": "code",
    "id": "Zan-wWDxGf_E"
   },
   "outputs": [],
   "source": [
    "# Download all necessary files for the live tutorial\n",
    "# Post ODSC pull from GitHub Repo github.com/robert-alvarez\n",
    "\n",
    "data_url = 'https://www.dropbox.com/s/dbb0sf9d3r6rymo/odsc_pytorch_data_with_model.zip?dl=1'\n",
    "\n",
    "if not os.path.exists('data'):\n",
    "    # Download the data zip file.\n",
    "    response = requests.get(data_url, stream=True)\n",
    "    zip_path = 'odsc_pytorch_data.zip'\n",
    "    with open(zip_path, 'wb') as f:\n",
    "        shutil.copyfileobj(response.raw, f)\n",
    "    # Unzip the file.\n",
    "    with zipfile.ZipFile(zip_path, 'r') as z:\n",
    "        z.extractall()\n",
    "    # Move files.\n",
    "    shutil.move('odsc_pytorch_data/data', 'data')\n",
    "    shutil.move('odsc_pytorch_data/fashionmnist', 'fashionmnist')\n",
    "    # Clean up.\n",
    "    shutil.rmtree('__MACOSX')\n",
    "    shutil.rmtree(zip_path[:-4])\n",
    "    os.remove(zip_path)"
   ]
  },
  {
   "cell_type": "code",
   "execution_count": 4,
   "metadata": {
    "colab": {
     "base_uri": "https://localhost:8080/",
     "height": 48
    },
    "colab_type": "code",
    "id": "PsQfEh6PHxjT",
    "outputId": "840a310f-4ac1-4f52-99b3-222032d78fa7"
   },
   "outputs": [
    {
     "name": "stdout",
     "output_type": "stream",
     "text": [
      "data  fashionmnist  sample_data\n"
     ]
    }
   ],
   "source": [
    "!ls"
   ]
  },
  {
   "cell_type": "markdown",
   "metadata": {
    "colab_type": "text",
    "id": "3hqg2qzeGf_G"
   },
   "source": [
    "# PyTorch\n",
    "\n",
    "What is PyTorch?\n",
    "\n",
    "* It is a replacement for NumPy to use GPUs\n",
    "* A deep learning platform built for flexibility and speed\n",
    "\n",
    "\n",
    "## Tensor Overview\n",
    "What are tensors?\n",
    "\n",
    "Tensors are similar to NumPy's `ndarrays`\n",
    "\n",
    "We normally think of tensors as a generalization of matrices. In fact, matrices are 2-D tensors!\n",
    "\n",
    "![](https://image.slidesharecdn.com/tensordecomposition-170301235239/95/a-brief-survey-of-tensors-5-638.jpg?cb=1488412458)\n",
    "\n",
    "Here is a great visualization of tensors from 1-D to 5-D\n",
    "\n",
    "![](https://cdn-images-1.medium.com/max/2000/1*_D5ZvufDS38WkhK9rK32hQ.jpeg)\n",
    "\n",
    "As mentioned before, since tensors are generalizations of matrices, we should be able to create them in similar ways. We can also expect *most* operations to stay the same. In particular, addition of tensors is the same as for matrices. Multiplication is a bit different, but we won't have to concern ourselves with that in this lecture."
   ]
  },
  {
   "cell_type": "markdown",
   "metadata": {
    "colab_type": "text",
    "id": "gwm4yfWtGf_G"
   },
   "source": [
    "### Tensor Types\n",
    "\n",
    "Torch defines eight CPU tensor types and eight GPU tensor types:\n",
    "\n",
    "| Data type                | dtype                             | CPU Tensor           | GPU Tensor                |\n",
    "|--------------------------|-----------------------------------|----------------------|---------------------------|\n",
    "| 32-bit floating point    | `torch.float32` or `torch.float`  | `torch.FloatTensor`  | `torch.cuda.FloatTensor`  |\n",
    "| 64-bit floating point    | `torch.float64` or `torch.double` | `torch.DoubleTensor` | `torch.cuda.DoubleTensor` |\n",
    "| 16-bit floating point    | `torch.float16` or `torch.half`   | `torch.HalfTensor`   | `torch.cuda.HalfTensor`   |\n",
    "| 8-bit integer (unsigned) | `torch.uint8`                     | `torch.ByteTensor`   | `torch.cuda.ByteTensor`   |\n",
    "| 8-bit integer (signed)   | `torch.int8`                      | `torch.CharTensor`   | `torch.cuda.CharTensor`   |\n",
    "| 16-bit integer (signed)  | `torch.int16` or `torch.short`    | `torch.ShortTensor`  | `torch.cuda.ShortTensor`  |\n",
    "| 32-bit integer (signed)  | `torch.int32` or `torch.int`      | `torch.IntTensor`    | `torch.cuda.IntTensor`    |\n",
    "| 64-bit integer (signed)  | `torch.int64` or `torch.long`     | `torch.LongTensor`   | `torch.cuda.LongTensor`   |\n",
    "\n",
    "**Note**: Tensor types need to match when doing calculations with them."
   ]
  },
  {
   "cell_type": "markdown",
   "metadata": {
    "colab_type": "text",
    "id": "SwZ46R8HGf_H"
   },
   "source": [
    "### Numpy ndarrays vs PyTorch Tensors\n",
    "\n",
    "Let's look at the differences between these two common methods of handling arrays. "
   ]
  },
  {
   "cell_type": "code",
   "execution_count": 5,
   "metadata": {
    "colab": {
     "base_uri": "https://localhost:8080/",
     "height": 238
    },
    "colab_type": "code",
    "id": "xj6XM4HNGf_J",
    "outputId": "06b4dde4-3875-4c09-b6d0-f3eef612c0c3"
   },
   "outputs": [
    {
     "name": "stdout",
     "output_type": "stream",
     "text": [
      "x1 =\n",
      " [[0.86482082 0.89082294 0.74753667]\n",
      " [0.18027538 0.09342876 0.83474717]\n",
      " [0.79270854 0.53611288 0.84947364]\n",
      " [0.87540646 0.88025522 0.79957209]\n",
      " [0.80953064 0.97638541 0.96095708]]\n",
      "\n",
      "t1 =\n",
      " tensor([[0.1721, 0.5198, 0.4330],\n",
      "        [0.9492, 0.4874, 0.4544],\n",
      "        [0.8802, 0.7533, 0.1039],\n",
      "        [0.3531, 0.5050, 0.9804],\n",
      "        [0.6880, 0.2218, 0.4548]], dtype=torch.float64)\n"
     ]
    }
   ],
   "source": [
    "# In numpy, we create tensors (arrays) in the following way\n",
    "x1 = np.random.rand(5,3)\n",
    "print(f\"x1 =\\n {x1}\\n\")\n",
    "\n",
    "# Similar to numpy we can create random tensors\n",
    "t1 = torch.rand(5,3, dtype=torch.float64)\n",
    "print(f\"t1 =\\n {t1}\")"
   ]
  },
  {
   "cell_type": "code",
   "execution_count": 6,
   "metadata": {
    "colab": {
     "base_uri": "https://localhost:8080/",
     "height": 51
    },
    "colab_type": "code",
    "id": "ZULbbq-jGf_M",
    "outputId": "7249efee-4852-4625-f629-b24ccd99c5ed"
   },
   "outputs": [
    {
     "name": "stdout",
     "output_type": "stream",
     "text": [
      "t1 is a <class 'torch.Tensor'>\n",
      "x1 is a <class 'numpy.ndarray'>\n"
     ]
    }
   ],
   "source": [
    "# check the type\n",
    "print(f\"t1 is a {type(t1)}\")\n",
    "print(f\"x1 is a {type(x1)}\")"
   ]
  },
  {
   "cell_type": "code",
   "execution_count": 7,
   "metadata": {
    "colab": {
     "base_uri": "https://localhost:8080/",
     "height": 51
    },
    "colab_type": "code",
    "id": "6vQA7emZGf_P",
    "outputId": "52d27fb8-44cd-4ba1-bcd7-37c327855da3"
   },
   "outputs": [
    {
     "name": "stdout",
     "output_type": "stream",
     "text": [
      "t1 is dtype torch.float64\n",
      "x1 is dtype float64\n"
     ]
    }
   ],
   "source": [
    "print(f\"t1 is dtype {t1.dtype}\")\n",
    "print(f\"x1 is dtype {x1.dtype}\")"
   ]
  },
  {
   "cell_type": "code",
   "execution_count": 8,
   "metadata": {
    "colab": {
     "base_uri": "https://localhost:8080/",
     "height": 306
    },
    "colab_type": "code",
    "id": "ctyC7LsmGf_R",
    "outputId": "8f93ba29-fd76-4eef-a9ab-9e8f0876100c"
   },
   "outputs": [
    {
     "name": "stdout",
     "output_type": "stream",
     "text": [
      "t2 =\n",
      " tensor([[[0.4577, 0.1382, 0.1714, 0.3175, 0.1116],\n",
      "         [0.3550, 0.6857, 0.3579, 0.4491, 0.5721],\n",
      "         [0.1890, 0.8696, 0.4386, 0.4322, 0.1519]],\n",
      "\n",
      "        [[0.1170, 0.4548, 0.0540, 0.3209, 0.9301],\n",
      "         [0.7466, 0.4534, 0.8821, 0.0582, 0.9039],\n",
      "         [0.1114, 0.3696, 0.1800, 0.9062, 0.3147]]])\n",
      "\n",
      "x2 =\n",
      " [[[0.99520363 0.0744363  0.71283834 0.19612194 0.09858704]\n",
      "  [0.92267624 0.00302775 0.57148544 0.07105153 0.70597293]\n",
      "  [0.23979317 0.24611618 0.03869029 0.24972206 0.51974304]]\n",
      "\n",
      " [[0.14117223 0.30644085 0.00627031 0.66906812 0.49329549]\n",
      "  [0.58746135 0.48449521 0.93056607 0.03488476 0.18583891]\n",
      "  [0.92871012 0.84871792 0.96068378 0.0725246  0.61570737]]]\n"
     ]
    }
   ],
   "source": [
    "# create a 3-D tensor in torch and numpy\n",
    "t2 = torch.rand(2, 3, 5)\n",
    "print(f\"t2 =\\n {t2}\\n\")\n",
    "\n",
    "x2 = np.random.rand(2, 3, 5)\n",
    "print(f\"x2 =\\n {x2}\")"
   ]
  },
  {
   "cell_type": "code",
   "execution_count": 9,
   "metadata": {
    "colab": {
     "base_uri": "https://localhost:8080/",
     "height": 119
    },
    "colab_type": "code",
    "id": "XXcGRRX3Gf_T",
    "outputId": "65387068-c2f8-47b0-cbac-dd9f4edea6d9"
   },
   "outputs": [
    {
     "name": "stdout",
     "output_type": "stream",
     "text": [
      "tensor([[0, 0, 0],\n",
      "        [0, 0, 0],\n",
      "        [0, 0, 0],\n",
      "        [0, 0, 0],\n",
      "        [0, 0, 0]])\n",
      "torch.int64\n"
     ]
    }
   ],
   "source": [
    "long_tensor = torch.zeros(5,3, dtype=torch.long)\n",
    "print(long_tensor)\n",
    "print(long_tensor.dtype)"
   ]
  },
  {
   "cell_type": "code",
   "execution_count": 10,
   "metadata": {
    "colab": {
     "base_uri": "https://localhost:8080/",
     "height": 119
    },
    "colab_type": "code",
    "id": "p-UHa4XRGf_W",
    "outputId": "126554be-bc4e-4e53-9589-2b13b678f18b"
   },
   "outputs": [
    {
     "name": "stdout",
     "output_type": "stream",
     "text": [
      "tensor([[0., 0., 0.],\n",
      "        [0., 0., 0.],\n",
      "        [0., 0., 0.],\n",
      "        [0., 0., 0.],\n",
      "        [0., 0., 0.]], dtype=torch.float64)\n",
      "torch.float64\n"
     ]
    }
   ],
   "source": [
    "float_tensor = torch.zeros(5,3, dtype=torch.float64)\n",
    "print(float_tensor)\n",
    "print(float_tensor.dtype)"
   ]
  },
  {
   "cell_type": "code",
   "execution_count": 11,
   "metadata": {
    "colab": {
     "base_uri": "https://localhost:8080/",
     "height": 164
    },
    "colab_type": "code",
    "id": "bHV0kyK1Gf_Z",
    "outputId": "b8d7c708-84b1-4931-f681-5e0fd265f359"
   },
   "outputs": [
    {
     "ename": "RuntimeError",
     "evalue": "ignored",
     "output_type": "error",
     "traceback": [
      "\u001b[0;31m---------------------------------------------------------------------------\u001b[0m",
      "\u001b[0;31mRuntimeError\u001b[0m                              Traceback (most recent call last)",
      "\u001b[0;32m<ipython-input-11-65e2d9a94520>\u001b[0m in \u001b[0;36m<module>\u001b[0;34m()\u001b[0m\n\u001b[0;32m----> 1\u001b[0;31m \u001b[0mlong_tensor\u001b[0m \u001b[0;34m+\u001b[0m \u001b[0mfloat_tensor\u001b[0m\u001b[0;34m\u001b[0m\u001b[0m\n\u001b[0m",
      "\u001b[0;31mRuntimeError\u001b[0m: Expected object of type torch.LongTensor but found type torch.DoubleTensor for argument #3 'other'"
     ]
    }
   ],
   "source": [
    "long_tensor + float_tensor"
   ]
  },
  {
   "cell_type": "code",
   "execution_count": 0,
   "metadata": {
    "colab": {},
    "colab_type": "code",
    "id": "mHTNC0IFGf_b"
   },
   "outputs": [],
   "source": [
    "float_tensor + long_tensor"
   ]
  },
  {
   "cell_type": "code",
   "execution_count": 12,
   "metadata": {
    "colab": {
     "base_uri": "https://localhost:8080/",
     "height": 34
    },
    "colab_type": "code",
    "id": "l0iwVUgMGf_e",
    "outputId": "5781da1d-49c5-4867-910c-e839c0e0d64f"
   },
   "outputs": [
    {
     "data": {
      "text/plain": [
       "tensor([2., 3.])"
      ]
     },
     "execution_count": 12,
     "metadata": {
      "tags": []
     },
     "output_type": "execute_result"
    }
   ],
   "source": [
    "# we can also create explicit tensors\n",
    "x = torch.tensor([2., 3])\n",
    "x"
   ]
  },
  {
   "cell_type": "code",
   "execution_count": 13,
   "metadata": {
    "colab": {
     "base_uri": "https://localhost:8080/",
     "height": 102
    },
    "colab_type": "code",
    "id": "D6Wds4y0Gf_g",
    "outputId": "06ff1bbb-cbbe-468a-8fed-bec5efc59b59"
   },
   "outputs": [
    {
     "name": "stdout",
     "output_type": "stream",
     "text": [
      "tensor([[1., 1., 1.],\n",
      "        [1., 1., 1.],\n",
      "        [1., 1., 1.],\n",
      "        [1., 1., 1.],\n",
      "        [1., 1., 1.]])\n"
     ]
    }
   ],
   "source": [
    "# this method creates a new tensor \"y\" that has the same properties (e.g. dtype) as the original tensor \"x\"\n",
    "y = x.new_ones(5,3)\n",
    "print(y)"
   ]
  },
  {
   "cell_type": "code",
   "execution_count": 14,
   "metadata": {
    "colab": {
     "base_uri": "https://localhost:8080/",
     "height": 34
    },
    "colab_type": "code",
    "id": "wNzyaF2_Gf_i",
    "outputId": "e4229fbd-a68e-485e-a564-1293ae668f2d"
   },
   "outputs": [
    {
     "data": {
      "text/plain": [
       "torch.Size([5, 3])"
      ]
     },
     "execution_count": 14,
     "metadata": {
      "tags": []
     },
     "output_type": "execute_result"
    }
   ],
   "source": [
    "# there's a size method as well\n",
    "y.size()"
   ]
  },
  {
   "cell_type": "code",
   "execution_count": 15,
   "metadata": {
    "colab": {
     "base_uri": "https://localhost:8080/",
     "height": 102
    },
    "colab_type": "code",
    "id": "Eo2fr17FGf_j",
    "outputId": "5c3965de-adbe-461c-b854-a5cee15d4b55"
   },
   "outputs": [
    {
     "data": {
      "text/plain": [
       "tensor([[1.9954, 1.6809, 1.1250],\n",
       "        [1.4075, 1.0283, 1.7112],\n",
       "        [1.5896, 1.1024, 1.6462],\n",
       "        [1.4548, 1.4570, 1.1356],\n",
       "        [1.4874, 1.6667, 1.2687]])"
      ]
     },
     "execution_count": 15,
     "metadata": {
      "tags": []
     },
     "output_type": "execute_result"
    }
   ],
   "source": [
    "# We can add tensors as well in the usual way you expect\n",
    "x = torch.rand(5,3)\n",
    "x + y"
   ]
  },
  {
   "cell_type": "code",
   "execution_count": 16,
   "metadata": {
    "colab": {
     "base_uri": "https://localhost:8080/",
     "height": 102
    },
    "colab_type": "code",
    "id": "_EAgvjINGf_m",
    "outputId": "a1dcc967-6400-4702-e4b4-7ff1cbb1ecd0"
   },
   "outputs": [
    {
     "data": {
      "text/plain": [
       "tensor([[1.9954, 1.6809, 1.1250],\n",
       "        [1.4075, 1.0283, 1.7112],\n",
       "        [1.5896, 1.1024, 1.6462],\n",
       "        [1.4548, 1.4570, 1.1356],\n",
       "        [1.4874, 1.6667, 1.2687]])"
      ]
     },
     "execution_count": 16,
     "metadata": {
      "tags": []
     },
     "output_type": "execute_result"
    }
   ],
   "source": [
    "# We can also add like this\n",
    "torch.add(x, y)"
   ]
  },
  {
   "cell_type": "code",
   "execution_count": 17,
   "metadata": {
    "colab": {
     "base_uri": "https://localhost:8080/",
     "height": 102
    },
    "colab_type": "code",
    "id": "bb6LV6_LGf_q",
    "outputId": "9cf2e405-5d8f-48c4-f3b6-764a7d21fb00"
   },
   "outputs": [
    {
     "data": {
      "text/plain": [
       "tensor([[1.9954, 1.6809, 1.1250],\n",
       "        [1.4075, 1.0283, 1.7112],\n",
       "        [1.5896, 1.1024, 1.6462],\n",
       "        [1.4548, 1.4570, 1.1356],\n",
       "        [1.4874, 1.6667, 1.2687]])"
      ]
     },
     "execution_count": 17,
     "metadata": {
      "tags": []
     },
     "output_type": "execute_result"
    }
   ],
   "source": [
    "# OR like this!\n",
    "# The `*_` method works just like `inplace=True` in pandas\n",
    "y.add_(x) "
   ]
  },
  {
   "cell_type": "code",
   "execution_count": 18,
   "metadata": {
    "colab": {
     "base_uri": "https://localhost:8080/",
     "height": 102
    },
    "colab_type": "code",
    "id": "GnMOFIEYGf_t",
    "outputId": "0a6d2961-af25-48b4-df12-55b61f56b034"
   },
   "outputs": [
    {
     "data": {
      "text/plain": [
       "tensor([[1.9954, 1.6809, 1.1250],\n",
       "        [1.4075, 1.0283, 1.7112],\n",
       "        [1.5896, 1.1024, 1.6462],\n",
       "        [1.4548, 1.4570, 1.1356],\n",
       "        [1.4874, 1.6667, 1.2687]])"
      ]
     },
     "execution_count": 18,
     "metadata": {
      "tags": []
     },
     "output_type": "execute_result"
    }
   ],
   "source": [
    "# see!\n",
    "y"
   ]
  },
  {
   "cell_type": "code",
   "execution_count": 19,
   "metadata": {
    "colab": {
     "base_uri": "https://localhost:8080/",
     "height": 34
    },
    "colab_type": "code",
    "id": "wKYrrbpXGf_w",
    "outputId": "1596fd0c-feec-4990-c5a3-e59afef747a4"
   },
   "outputs": [
    {
     "data": {
      "text/plain": [
       "tensor([1.6809, 1.0283, 1.1024, 1.4570, 1.6667])"
      ]
     },
     "execution_count": 19,
     "metadata": {
      "tags": []
     },
     "output_type": "execute_result"
    }
   ],
   "source": [
    "# Indexing works just like in numpy\n",
    "y[:, 1]"
   ]
  },
  {
   "cell_type": "code",
   "execution_count": 20,
   "metadata": {
    "colab": {
     "base_uri": "https://localhost:8080/",
     "height": 34
    },
    "colab_type": "code",
    "id": "qDzHrXboGf_x",
    "outputId": "02123b66-5ddd-4ad7-b9ed-339cc65b5ebe"
   },
   "outputs": [
    {
     "name": "stdout",
     "output_type": "stream",
     "text": [
      "torch.Size([4, 4]) torch.Size([16]) torch.Size([2, 8])\n"
     ]
    }
   ],
   "source": [
    "# We can reshape tensors as well though it's called \"view\" in pytorch\n",
    "x = torch.randn(4,4)\n",
    "y = x.view(16)\n",
    "z = x.view(-1, 8)\n",
    "print(x.size(), y.size(), z.size())"
   ]
  },
  {
   "cell_type": "markdown",
   "metadata": {
    "colab_type": "text",
    "id": "qpEm_a2uGf_z"
   },
   "source": [
    "More on torch operations can be found here: https://pytorch.org/docs/stable/torch.html#math-operations"
   ]
  },
  {
   "cell_type": "code",
   "execution_count": 21,
   "metadata": {
    "colab": {
     "base_uri": "https://localhost:8080/",
     "height": 34
    },
    "colab_type": "code",
    "id": "DvNnPVwnGf_z",
    "outputId": "8ac156e4-a84e-45c9-ce0f-a7a32d00a078"
   },
   "outputs": [
    {
     "data": {
      "text/plain": [
       "tensor([1., 1., 1., 1., 1.])"
      ]
     },
     "execution_count": 21,
     "metadata": {
      "tags": []
     },
     "output_type": "execute_result"
    }
   ],
   "source": [
    "# Converting to/from PyTorch & NumPy is easy\n",
    "a = torch.ones(5)\n",
    "a"
   ]
  },
  {
   "cell_type": "code",
   "execution_count": 22,
   "metadata": {
    "colab": {
     "base_uri": "https://localhost:8080/",
     "height": 34
    },
    "colab_type": "code",
    "id": "ko2hW-XCGf_2",
    "outputId": "139e9d84-2639-4b5a-80c1-b0ab6b60f8f8"
   },
   "outputs": [
    {
     "data": {
      "text/plain": [
       "array([1., 1., 1., 1., 1.], dtype=float32)"
      ]
     },
     "execution_count": 22,
     "metadata": {
      "tags": []
     },
     "output_type": "execute_result"
    }
   ],
   "source": [
    "# convert to numpy\n",
    "b = a.numpy()\n",
    "b"
   ]
  },
  {
   "cell_type": "code",
   "execution_count": 23,
   "metadata": {
    "colab": {
     "base_uri": "https://localhost:8080/",
     "height": 51
    },
    "colab_type": "code",
    "id": "eYzEN6epGf_5",
    "outputId": "23f23235-d7d0-4fff-e3ea-0a07c91d6f69"
   },
   "outputs": [
    {
     "name": "stdout",
     "output_type": "stream",
     "text": [
      "tensor([2., 2., 2., 2., 2.])\n",
      "[2. 2. 2. 2. 2.]\n"
     ]
    }
   ],
   "source": [
    "# what do we expect this result to be?\n",
    "a.add_(1)\n",
    "print(a)\n",
    "print(b)"
   ]
  },
  {
   "cell_type": "code",
   "execution_count": 24,
   "metadata": {
    "colab": {
     "base_uri": "https://localhost:8080/",
     "height": 221
    },
    "colab_type": "code",
    "id": "bZxaAx_BGf_8",
    "outputId": "9ba46cbd-d4c1-4af1-9511-465baf288c67"
   },
   "outputs": [
    {
     "name": "stdout",
     "output_type": "stream",
     "text": [
      "[[ 1.42390308e-01 -1.15787228e+00  5.50328746e-01  3.22401323e-01\n",
      "  -8.29159776e-01]\n",
      " [ 1.43444686e+00  1.38279493e-01  1.41614861e-04  1.44070406e+00\n",
      "  -8.04408955e-01]\n",
      " [ 1.86573185e-01  9.71425864e-01 -6.26669546e-02  1.11350503e+00\n",
      "  -8.80468068e-01]\n",
      " [ 5.65982575e-01 -1.17426696e+00  6.51502018e-02 -4.66389927e-01\n",
      "  -1.62824241e+00]]\n",
      "tensor([[ 0.1424, -1.1579,  0.5503,  0.3224, -0.8292],\n",
      "        [ 1.4344,  0.1383,  0.0001,  1.4407, -0.8044],\n",
      "        [ 0.1866,  0.9714, -0.0627,  1.1135, -0.8805],\n",
      "        [ 0.5660, -1.1743,  0.0652, -0.4664, -1.6282]], dtype=torch.float64)\n"
     ]
    }
   ],
   "source": [
    "# Convert from numpy to torch\n",
    "c = np.random.randn(4,5)\n",
    "print(c)\n",
    "d = torch.from_numpy(c)\n",
    "print(d)"
   ]
  },
  {
   "cell_type": "markdown",
   "metadata": {
    "colab_type": "text",
    "id": "RXIjeDe5Gf_-"
   },
   "source": [
    "## Autograd - AKA why PyTorch is awesome\n",
    "\n",
    "Central to all Neural Networks in PyTorch is the `autograd` package. \n",
    "\n",
    "The `autograd` package provides automatic differentiation for all operations on Tensors. It is a define-by-run framework, \n",
    "which means that your backprop is defined by how your code is run, and that every single iteration can be different.\n",
    "\n",
    "Let's look at a basic example of this before returning to our Neural Networks again."
   ]
  },
  {
   "cell_type": "code",
   "execution_count": 25,
   "metadata": {
    "colab": {
     "base_uri": "https://localhost:8080/",
     "height": 51
    },
    "colab_type": "code",
    "id": "x1MZA3PyGf__",
    "outputId": "61295643-8b60-45fc-e1b5-bb0e0defb1a6"
   },
   "outputs": [
    {
     "name": "stdout",
     "output_type": "stream",
     "text": [
      "tensor([[1., 1.],\n",
      "        [1., 1.]], requires_grad=True)\n"
     ]
    }
   ],
   "source": [
    "# Create a tensor and set requires_grade=True to track computation with it\n",
    "x = torch.ones(2,2, requires_grad=True)\n",
    "print(x)"
   ]
  },
  {
   "cell_type": "code",
   "execution_count": 26,
   "metadata": {
    "colab": {
     "base_uri": "https://localhost:8080/",
     "height": 51
    },
    "colab_type": "code",
    "id": "Ecg_mtAyGgAB",
    "outputId": "7c8c2465-d4b6-4725-bdc1-3153a497a78e"
   },
   "outputs": [
    {
     "name": "stdout",
     "output_type": "stream",
     "text": [
      "tensor([[10., 10.],\n",
      "        [10., 10.]], grad_fn=<AddBackward>)\n"
     ]
    }
   ],
   "source": [
    "# Do some operation on said tensor\n",
    "y = 3*x + 7\n",
    "print(y)"
   ]
  },
  {
   "cell_type": "code",
   "execution_count": 27,
   "metadata": {
    "colab": {
     "base_uri": "https://localhost:8080/",
     "height": 34
    },
    "colab_type": "code",
    "id": "cRDjDqx0GgAD",
    "outputId": "7e1d8ba9-a9c4-4494-827c-e365156ef414"
   },
   "outputs": [
    {
     "data": {
      "text/plain": [
       "<AddBackward at 0x7fba96585cf8>"
      ]
     },
     "execution_count": 27,
     "metadata": {
      "tags": []
     },
     "output_type": "execute_result"
    }
   ],
   "source": [
    "# Because y was created as a result of an operation, it now has a grad_fn method\n",
    "y.grad_fn"
   ]
  },
  {
   "cell_type": "code",
   "execution_count": 28,
   "metadata": {
    "colab": {
     "base_uri": "https://localhost:8080/",
     "height": 51
    },
    "colab_type": "code",
    "id": "gVRkNWJtGgAG",
    "outputId": "17e78b8d-50ab-464b-db6e-afca1ea0906f"
   },
   "outputs": [
    {
     "name": "stdout",
     "output_type": "stream",
     "text": [
      "tensor([[200., 200.],\n",
      "        [200., 200.]], grad_fn=<MulBackward>) tensor(200., grad_fn=<MeanBackward1>)\n"
     ]
    }
   ],
   "source": [
    "# We can do more stuff to y (and thus x) and calculate its derivatives\n",
    "z = 2*y**2\n",
    "w = z.mean()\n",
    "\n",
    "print(z, w)"
   ]
  },
  {
   "cell_type": "code",
   "execution_count": 0,
   "metadata": {
    "colab": {},
    "colab_type": "code",
    "id": "-ktf9t7MGgAJ"
   },
   "outputs": [],
   "source": [
    "# Backpropagation in one line!\n",
    "w.backward()"
   ]
  },
  {
   "cell_type": "code",
   "execution_count": 30,
   "metadata": {
    "colab": {
     "base_uri": "https://localhost:8080/",
     "height": 51
    },
    "colab_type": "code",
    "id": "ObS7Ym65GgAL",
    "outputId": "768664c5-df69-4ab6-b4af-16230503a3be"
   },
   "outputs": [
    {
     "data": {
      "text/plain": [
       "tensor([[30., 30.],\n",
       "        [30., 30.]])"
      ]
     },
     "execution_count": 30,
     "metadata": {
      "tags": []
     },
     "output_type": "execute_result"
    }
   ],
   "source": [
    "# et voila!\n",
    "x.grad"
   ]
  },
  {
   "cell_type": "markdown",
   "metadata": {
    "colab_type": "text",
    "id": "6dzuEP7eGgAN"
   },
   "source": [
    "## Linear Regression Example"
   ]
  },
  {
   "cell_type": "markdown",
   "metadata": {
    "colab_type": "text",
    "id": "_cslo7_tGgAP"
   },
   "source": [
    "One of the classic problems in machine leaarning is trying to find the line of best fit for some given data."
   ]
  },
  {
   "cell_type": "code",
   "execution_count": 0,
   "metadata": {
    "colab": {},
    "colab_type": "code",
    "id": "NbXVsQkSGgAP"
   },
   "outputs": [],
   "source": [
    "n=200"
   ]
  },
  {
   "cell_type": "code",
   "execution_count": 49,
   "metadata": {
    "colab": {
     "base_uri": "https://localhost:8080/",
     "height": 102
    },
    "colab_type": "code",
    "id": "GjZrBXMNGgAS",
    "outputId": "9c5f45b7-975c-4285-dd22-07183b37bf46"
   },
   "outputs": [
    {
     "data": {
      "text/plain": [
       "tensor([[-0.3053,  1.0000],\n",
       "        [ 0.4202,  1.0000],\n",
       "        [ 0.9325,  1.0000],\n",
       "        [-0.7854,  1.0000],\n",
       "        [ 0.8811,  1.0000]])"
      ]
     },
     "execution_count": 49,
     "metadata": {
      "tags": []
     },
     "output_type": "execute_result"
    }
   ],
   "source": [
    "x = torch.ones(n,2) \n",
    "x[:,0].uniform_(-1.,1)\n",
    "x[:5]"
   ]
  },
  {
   "cell_type": "code",
   "execution_count": 50,
   "metadata": {
    "colab": {
     "base_uri": "https://localhost:8080/",
     "height": 34
    },
    "colab_type": "code",
    "id": "8rtKMhJDGgAT",
    "outputId": "1b5b6fa4-51a5-4e28-bf60-2cb240972855"
   },
   "outputs": [
    {
     "data": {
      "text/plain": [
       "tensor([5., 3.])"
      ]
     },
     "execution_count": 50,
     "metadata": {
      "tags": []
     },
     "output_type": "execute_result"
    }
   ],
   "source": [
    "a = torch.tensor([5.,3]) \n",
    "a"
   ]
  },
  {
   "cell_type": "code",
   "execution_count": 0,
   "metadata": {
    "colab": {},
    "colab_type": "code",
    "id": "AfwlhwEdGgAW"
   },
   "outputs": [],
   "source": [
    "y = x@a + torch.rand(n)"
   ]
  },
  {
   "cell_type": "code",
   "execution_count": 52,
   "metadata": {
    "colab": {
     "base_uri": "https://localhost:8080/",
     "height": 265
    },
    "colab_type": "code",
    "id": "G7IfQU0xGgAX",
    "outputId": "c62442a3-7135-4b33-ea66-ca7e5e67f378"
   },
   "outputs": [
    {
     "data": {
      "image/png": "[encoded data removed]",
      "text/plain": [
       "<matplotlib.figure.Figure at 0x7efdc2ffd748>"
      ]
     },
     "metadata": {
      "tags": []
     },
     "output_type": "display_data"
    }
   ],
   "source": [
    "plt.scatter(x[:,0], y);"
   ]
  },
  {
   "cell_type": "code",
   "execution_count": 0,
   "metadata": {
    "colab": {},
    "colab_type": "code",
    "id": "jCwRCk2LGgAZ"
   },
   "outputs": [],
   "source": [
    "# define the loss function we will be minizing\n",
    "def mse(y, y_pred): \n",
    "    return ((y - y_pred)**2).mean()"
   ]
  },
  {
   "cell_type": "code",
   "execution_count": 0,
   "metadata": {
    "colab": {},
    "colab_type": "code",
    "id": "jyQOWo2_GgAc"
   },
   "outputs": [],
   "source": [
    "# start with some initial guess \n",
    "a_guess = torch.tensor([-3.,3])"
   ]
  },
  {
   "cell_type": "code",
   "execution_count": 56,
   "metadata": {
    "colab": {
     "base_uri": "https://localhost:8080/",
     "height": 34
    },
    "colab_type": "code",
    "id": "qbMKsiUqGgAe",
    "outputId": "d0a18392-2a03-4604-d30e-25caf2e2b305"
   },
   "outputs": [
    {
     "data": {
      "text/plain": [
       "tensor(20.8731)"
      ]
     },
     "execution_count": 56,
     "metadata": {
      "tags": []
     },
     "output_type": "execute_result"
    }
   ],
   "source": [
    "# find the \"best\" line given this guess\n",
    "# and determine the loss \n",
    "y_pred = x@a_guess\n",
    "mse(y, y_pred)"
   ]
  },
  {
   "cell_type": "code",
   "execution_count": 57,
   "metadata": {
    "colab": {
     "base_uri": "https://localhost:8080/",
     "height": 265
    },
    "colab_type": "code",
    "id": "8HwAESq5GgAi",
    "outputId": "d22ab33d-939d-4d01-a87c-0f6eca603955"
   },
   "outputs": [
    {
     "data": {
      "image/png": "[encoded data removed]",
      "text/plain": [
       "<matplotlib.figure.Figure at 0x7efdc2ffd780>"
      ]
     },
     "metadata": {
      "tags": []
     },
     "output_type": "display_data"
    }
   ],
   "source": [
    "# see how the answer differs from the original\n",
    "plt.scatter(x[:,0],y)\n",
    "plt.scatter(x[:,0],y_pred);"
   ]
  },
  {
   "cell_type": "code",
   "execution_count": 58,
   "metadata": {
    "colab": {
     "base_uri": "https://localhost:8080/",
     "height": 51
    },
    "colab_type": "code",
    "id": "p0yTBo3OGgAj",
    "outputId": "8e892046-343c-4bb3-e966-8ed24ce8583f"
   },
   "outputs": [
    {
     "data": {
      "text/plain": [
       "Parameter containing:\n",
       "tensor([-3.,  3.], requires_grad=True)"
      ]
     },
     "execution_count": 58,
     "metadata": {
      "tags": []
     },
     "output_type": "execute_result"
    }
   ],
   "source": [
    "a_guess = nn.Parameter(a_guess)\n",
    "a_guess"
   ]
  },
  {
   "cell_type": "code",
   "execution_count": 0,
   "metadata": {
    "colab": {},
    "colab_type": "code",
    "id": "iYNJ1PjHGgAl"
   },
   "outputs": [],
   "source": [
    "def update():\n",
    "    '''\n",
    "    function to update tensor using SGD\n",
    "    '''\n",
    "    y_pred = x@a_guess\n",
    "    loss = mse(y, y_pred)\n",
    "    \n",
    "    if t % 10 == 0: \n",
    "        print(loss)\n",
    "        \n",
    "    loss.backward()\n",
    "    with torch.no_grad():\n",
    "        a_guess.sub_(lr * a_guess.grad)\n",
    "        a_guess.grad.zero_()"
   ]
  },
  {
   "cell_type": "code",
   "execution_count": 60,
   "metadata": {
    "colab": {
     "base_uri": "https://localhost:8080/",
     "height": 187
    },
    "colab_type": "code",
    "id": "MiEwa9KNGgAn",
    "outputId": "7500c982-4bb9-4136-ec92-ccdb597c6b43"
   },
   "outputs": [
    {
     "name": "stdout",
     "output_type": "stream",
     "text": [
      "tensor(20.8731, grad_fn=<MeanBackward1>)\n",
      "tensor(5.4975, grad_fn=<MeanBackward1>)\n",
      "tensor(1.5169, grad_fn=<MeanBackward1>)\n",
      "tensor(0.4615, grad_fn=<MeanBackward1>)\n",
      "tensor(0.1814, grad_fn=<MeanBackward1>)\n",
      "tensor(0.1071, grad_fn=<MeanBackward1>)\n",
      "tensor(0.0873, grad_fn=<MeanBackward1>)\n",
      "tensor(0.0821, grad_fn=<MeanBackward1>)\n",
      "tensor(0.0807, grad_fn=<MeanBackward1>)\n",
      "tensor(0.0803, grad_fn=<MeanBackward1>)\n"
     ]
    }
   ],
   "source": [
    "lr = 1e-1\n",
    "for t in range(100): \n",
    "    update()"
   ]
  },
  {
   "cell_type": "code",
   "execution_count": 61,
   "metadata": {
    "colab": {
     "base_uri": "https://localhost:8080/",
     "height": 265
    },
    "colab_type": "code",
    "id": "K5LqRh9CGgAp",
    "outputId": "f4b41106-cfff-4cd8-a83e-2e3c83406137"
   },
   "outputs": [
    {
     "data": {
      "image/png": "[encoded data removed]",
      "text/plain": [
       "<matplotlib.figure.Figure at 0x7efdbf501e48>"
      ]
     },
     "metadata": {
      "tags": []
     },
     "output_type": "display_data"
    }
   ],
   "source": [
    "plt.scatter(x[:,0], y)\n",
    "plt.scatter(x[:,0], x@a_guess.detach());"
   ]
  },
  {
   "cell_type": "markdown",
   "metadata": {
    "colab_type": "text",
    "id": "jIEsXW2dGgAq"
   },
   "source": [
    "### Normal Equations\n",
    "Although we solved for the line of best fit using stochastic gradient descent,\n",
    "we could have also used the [Normal Equations](https://en.wikipedia.org/wiki/Linear_least_squares#Derivation_of_the_normal_equations) given by\n",
    "\n",
    "$$ \\theta = (X^T X)^{-1} X^T \\vec y$$\n",
    "\n",
    "where $\\theta$ is the vector we called `a_guess`"
   ]
  },
  {
   "cell_type": "code",
   "execution_count": 62,
   "metadata": {
    "colab": {
     "base_uri": "https://localhost:8080/",
     "height": 34
    },
    "colab_type": "code",
    "id": "QAdFUefpGgAr",
    "outputId": "901cd748-4291-4e2a-91e6-deec37f2fa95"
   },
   "outputs": [
    {
     "data": {
      "text/plain": [
       "tensor([4.9799, 3.5289])"
      ]
     },
     "execution_count": 62,
     "metadata": {
      "tags": []
     },
     "output_type": "execute_result"
    }
   ],
   "source": [
    "# Exercise:\n",
    "# Use pytorch to solve for theta using the normal equations\n",
    "# plot your result when you are finished\n",
    "\n",
    "# Code goes here\n",
    "\n",
    "theta = (torch.t(x)@x).inverse()@torch.t(x)@y\n",
    "theta"
   ]
  },
  {
   "cell_type": "code",
   "execution_count": 63,
   "metadata": {
    "colab": {
     "base_uri": "https://localhost:8080/",
     "height": 265
    },
    "colab_type": "code",
    "id": "q_O9A2Co0gju",
    "outputId": "9eda4f20-fade-4165-9b26-df6c47ad4b91"
   },
   "outputs": [
    {
     "data": {
      "image/png": "[encoded data removed]",
      "text/plain": [
       "<matplotlib.figure.Figure at 0x7efdbc347898>"
      ]
     },
     "metadata": {
      "tags": []
     },
     "output_type": "display_data"
    }
   ],
   "source": [
    "plt.scatter(x[:,0], y)\n",
    "plt.scatter(x[:,0], x@theta);"
   ]
  },
  {
   "cell_type": "markdown",
   "metadata": {
    "colab_type": "text",
    "id": "k7Vvsb6IGgAs"
   },
   "source": [
    "# Neural Nets"
   ]
  },
  {
   "cell_type": "markdown",
   "metadata": {
    "colab_type": "text",
    "id": "8xMo4jnfGgAt"
   },
   "source": [
    "Neural networks (NNs) are special forms of nonlinear regressions where the decision system for which the NN is built mimics the way \n",
    "the brain is supposed to work (whether it works like a NN is up for grabs of course).\n",
    "\n",
    "Like many of the algorithms we have seen before, it is a supervised learning technique that can perform complex tasks."
   ]
  },
  {
   "cell_type": "markdown",
   "metadata": {
    "colab_type": "text",
    "id": "HHziwQejGgAt"
   },
   "source": [
    "## Perceptrons"
   ]
  },
  {
   "cell_type": "markdown",
   "metadata": {
    "colab_type": "text",
    "id": "F5dVAdcHGgAt"
   },
   "source": [
    "The basic building block of a neural network is a perceptron. A perceptron is like a neuron in a human brain. It takes inputs \n",
    "(e.g. sensory in a real brain) and then produces an output signal. An entire network of perceptrons is called a neural net.\n",
    "\n",
    "![linear regression](https://cdn.pbrd.co/images/Hs1n4DL.png)"
   ]
  },
  {
   "cell_type": "markdown",
   "metadata": {
    "colab_type": "text",
    "id": "hImZfgYgGgAv"
   },
   "source": [
    "In general, a perceptron could have more or fewer inputs."
   ]
  },
  {
   "cell_type": "markdown",
   "metadata": {
    "colab_type": "text",
    "id": "tibn1K-tGgAw"
   },
   "source": [
    "Instead of assigning equal weight to each of the inputs, we can assign real numbers $w_1, w_2, \\ldots$ expressing the importance of the respective inputs to the output. The nueron's output, 0 or 1, is determined whether the weighted sum $\\sum_j w_j x_j$ is less than or greater than some *threshold value*.\n",
    "\n",
    "Perceptrons may emit continuous signals or binary $(0,1)$ signals. In the case of a credit card application, the final perceptron is a binary one (approved or denied). Such perceptrons are implemented by means of squashing functions. For example, a really simple squashing function is one that issues a 1 if the function value is positive and a $-1$ if it is negative."
   ]
  },
  {
   "cell_type": "markdown",
   "metadata": {
    "colab_type": "text",
    "id": "7al9zcp6GgAx"
   },
   "source": [
    "To put this in more mathematical terms, let $z = \\sum_{j=0}^n w_j x_j$ . \n",
    "Then the *activation function* $\\phi(z)$ is defined as \n",
    "\n",
    "$$\n",
    "\\phi(z) =\n",
    "\\begin{cases}\n",
    "-1 & \\text{if } z < \\theta\\\\\n",
    " 1 & \\text{if } z \\geq \\theta\n",
    "\\end{cases}\n",
    "$$"
   ]
  },
  {
   "cell_type": "markdown",
   "metadata": {
    "colab_type": "text",
    "id": "bAZxoSKxGgAx"
   },
   "source": [
    "![](https://github.com/robert-alvarez/pytorch_tutorial/blob/master/img/activation-function.png?raw=1)"
   ]
  },
  {
   "cell_type": "markdown",
   "metadata": {
    "colab_type": "text",
    "id": "3jqaErOXGgAy"
   },
   "source": [
    "The whole point of the perceptron is to mimic how a single nueron in the brain works: it either *fires* or it doesn't. Thus, the \n",
    "perceptron rule is fairly simple and can be summarized by the following steps.\n",
    "​\n",
    "* Initialize the weights to zero or small random numbers\n",
    "* For each training sample $\\textbf{x}_n$ perform the following steps:\n",
    "    * Compute the output value $y$\n",
    "    * Calculate error in $y$ vs $\\hat y$\n",
    "    * Update the weights\n",
    "  \n",
    "Here, the output value is the class label predicted by the activation function that we defined earlier, and the\n",
    "simultaneous update of weight $w_j$ in the weight vector $\\textbf{w}$ can be more formally written as\n",
    "​\n",
    "$$\\bar w_j = w_j + \\Delta w_j$$\n"
   ]
  },
  {
   "cell_type": "markdown",
   "metadata": {
    "colab_type": "text",
    "id": "PR5BbFsNGgAz"
   },
   "source": [
    "## Fitting a model\n",
    "\n",
    "Let's go back to our linear perceptron. It has the following parameters:\n",
    "\n",
    "* $x_i$: inputs\n",
    "* $y$ : output\n",
    "* $w_i$: learned weights\n",
    "\n",
    "What we would like to do is adjust the $w_i$'s until our model has the best fit.\n",
    "\n",
    "First, initialize the $w_i$'s in some meaningful way (usually they're drawn from a randon uniform distribution).\n",
    "\n",
    "Then, we put it into our usual **algorithm workflow:**\n",
    "\n",
    "* calculate prediction $\\hat y$\n",
    "* calculate Loss function $L(y, \\hat y)$\n",
    "* update weights using backpropagation\n",
    "\n",
    "### Loss function and backpropagation\n",
    "\n",
    "To figure out how well our prediction was during each epoch, we'll use a basic loss function, mean squared error (MSE):\n",
    "\n",
    "$L(y,\\hat{y}) = ||~ y-\\hat{y} ~||^2$,\n",
    "\n",
    "ultimately trying to find $L_{\\rm min}$, defined by the point in parameter space where $\\nabla_{w_i} L = 0$.\n",
    "\n",
    "Per-iteration update: \n",
    "\n",
    "$ w_i \\to w_i - \\eta \\nabla_{w_i} L $,\n",
    "\n",
    "where $\\eta$ is known as the learning rate; too small and takes very long to converge, too big and you oscillate about the minimum.\n"
   ]
  },
  {
   "cell_type": "markdown",
   "metadata": {
    "colab_type": "text",
    "id": "lpfAdJS0GgAz"
   },
   "source": [
    "## A basic example\n",
    "​\n",
    "We'll build an overly complex adding machine that will illustrate how neural nets work."
   ]
  },
  {
   "cell_type": "code",
   "execution_count": 44,
   "metadata": {
    "colab": {
     "base_uri": "https://localhost:8080/",
     "height": 68
    },
    "colab_type": "code",
    "id": "5qqP2JrfGgAz",
    "outputId": "0b222dca-7add-4df8-cbc9-6ff82f578d8f"
   },
   "outputs": [
    {
     "name": "stdout",
     "output_type": "stream",
     "text": [
      "Sequential(\n",
      "  (0): Linear(in_features=2, out_features=1, bias=False)\n",
      ")\n"
     ]
    }
   ],
   "source": [
    "model = nn.Sequential(\n",
    "            nn.Linear(2, 1, bias=False))\n",
    "\n",
    "optimizer = torch.optim.Adam(model.parameters())\n",
    "criterion = nn.MSELoss()\n",
    "print(model)"
   ]
  },
  {
   "cell_type": "code",
   "execution_count": 45,
   "metadata": {
    "colab": {
     "base_uri": "https://localhost:8080/",
     "height": 102
    },
    "colab_type": "code",
    "id": "ksoVwPWyGgA2",
    "outputId": "98f754ee-a87d-4c0d-f3c7-b208d9558261"
   },
   "outputs": [
    {
     "name": "stdout",
     "output_type": "stream",
     "text": [
      "0: %: 0.000\n",
      "2000: %: 20.000\n",
      "4000: %: 40.000\n",
      "6000: %: 60.000\n",
      "8000: %: 80.000\n"
     ]
    }
   ],
   "source": [
    "total_loss = []\n",
    "num_samples = 10000\n",
    "\n",
    "for num in range(num_samples):\n",
    "    # Progress bar indicator\n",
    "    if num % (num_samples//5) == 0:\n",
    "        print('{0}: %: {1:.3f}'.format(num,num/num_samples * 100))\n",
    "        \n",
    "    # data prep\n",
    "    x = 4*torch.rand(2) #generate two random numbers uniformly on (0,4)\n",
    "    data, target = Variable(x), Variable(x[0] + x[1])\n",
    "    \n",
    "    # Feed forward through NN\n",
    "    output = model(data)\n",
    "    loss = criterion(output, target)\n",
    "    total_loss.append(loss)\n",
    "    \n",
    "    # Backpropagation\n",
    "    optimizer.zero_grad()\n",
    "    loss.backward()\n",
    "    optimizer.step()"
   ]
  },
  {
   "cell_type": "code",
   "execution_count": 46,
   "metadata": {
    "colab": {
     "base_uri": "https://localhost:8080/",
     "height": 497
    },
    "colab_type": "code",
    "id": "g_NYZ6lFGgA3",
    "outputId": "ac3dfe8d-8f87-4cb3-95cc-627155c0f2c0"
   },
   "outputs": [
    {
     "data": {
      "image/png": "[encoded data removed]",
      "text/plain": [
       "<matplotlib.figure.Figure at 0x7efdbf543160>"
      ]
     },
     "metadata": {
      "tags": []
     },
     "output_type": "display_data"
    }
   ],
   "source": [
    "# plot errors\n",
    "fig,ax=plt.subplots(figsize=(11,8))\n",
    "ax.plot(total_loss,marker='.',ls='',markersize=1.)\n",
    "ax.set_ylim(0,);ax.set_xlim(0,);ax.grid(alpha=0.2);\n",
    "ax.set_xlabel('training examples');ax.set_ylabel('mean squared loss');"
   ]
  },
  {
   "cell_type": "code",
   "execution_count": 47,
   "metadata": {
    "colab": {
     "base_uri": "https://localhost:8080/",
     "height": 487
    },
    "colab_type": "code",
    "id": "KC86aAcZGgA7",
    "outputId": "66264490-c2ac-4f1c-8f23-597f4c10f202"
   },
   "outputs": [
    {
     "data": {
      "image/png": "[encoded data removed]",
      "text/plain": [
       "<matplotlib.figure.Figure at 0x7efdc2faba90>"
      ]
     },
     "metadata": {
      "tags": []
     },
     "output_type": "display_data"
    }
   ],
   "source": [
    "# plot results\n",
    "x,y=np.linspace(-5,8,100),[]\n",
    "\n",
    "for xx in x:\n",
    "    yy=model(torch.tensor([xx,2])).data.cpu().numpy()[0]\n",
    "    y.append(yy)\n",
    "y=np.array(y)\n",
    "\n",
    "fig,ax=plt.subplots(figsize=(11,8))\n",
    "ax.plot([-5,8],[-3,10],lw=2.0,label='actual',alpha=0.7)\n",
    "ax.fill_betweenx([-3,10],0,4,alpha=0.2)\n",
    "ax.scatter(x,y,marker='.',s=3.,label='prediction',color='r')\n",
    "ax.text(0.2,0,'Where we have \\ntraining data')\n",
    "ax.legend()\n",
    "ax.set_ylim(-3,10);ax.set_xlim(-5,8);\n",
    "ax.grid(alpha=0.2);\n"
   ]
  },
  {
   "cell_type": "markdown",
   "metadata": {
    "colab_type": "text",
    "id": "4nVNmGr9GgA9"
   },
   "source": [
    "## Feedforward Neural Network\n",
    "\n",
    "![General Feed Forward Network](https://www.jeremyjordan.me/content/images/2017/07/Screen-Shot-2017-07-26-at-1.44.58-PM.png)\n",
    "\n",
    "For our case of learning linear relationships, the modification to the linear regression architecture is depicted below:\n",
    "\n",
    "\n",
    "![non-linear activation](https://cdn.pbrd.co/images/Hs3GrKM.png)\n",
    "\n",
    "where\n",
    "\n",
    "$$\\sigma(z) = \\frac{1}{1+e^{-z}}$$\n",
    "\n",
    "is the so-called sigmoid function; this is typically the activation function that is first introduced, I think because of historical reasons. In modern practice, it finds most of its use in transforming single outputs from a NN into a probability. It's worth noting that if your NN will output multiple probabilities, for example, if your NN will categorize between black cats, red cats, white cats, etc., a multi-dimensional generalization of the sigmoid, called the softmax function, is typically used. \n",
    "\n",
    "The motivation behind adding an activation function is the hope that the NN model may capture non-linear relationships that exist in the data. Below are some commonly used activation functions. \n",
    "\n",
    "![activation functions](https://cdn-images-1.medium.com/max/1200/1*ZafDv3VUm60Eh10OeJu1vw.png)\n",
    "\n",
    "In practice, a lot of architectures use the rectified linear unit (ReLU), along with it's close cousin, the so-called leaky-ReLU. In introducing this idea though, let's focus on the sigmoid which maps real numbers from $(-\\infty,\\infty) \\to [0,1]$.\n",
    "\n",
    "Of course our data is linear in the case of a straight line (!) but let's see what happens if we try to force a non-linear activation layer to capture a linear relationship.."
   ]
  },
  {
   "cell_type": "markdown",
   "metadata": {
    "colab_type": "text",
    "id": "83ImQhL6GgA_"
   },
   "source": [
    "## Non-linear model for a linear relationship\n",
    "\n",
    "### Deep Feedforward Network with sigmoid activation"
   ]
  },
  {
   "cell_type": "code",
   "execution_count": 41,
   "metadata": {
    "colab": {
     "base_uri": "https://localhost:8080/",
     "height": 170
    },
    "colab_type": "code",
    "id": "m2kMmvUmGgA_",
    "outputId": "44196879-d217-451e-8feb-cbcb1af13712"
   },
   "outputs": [
    {
     "name": "stdout",
     "output_type": "stream",
     "text": [
      "Sequential(\n",
      "  (0): Linear(in_features=2, out_features=20, bias=True)\n",
      "  (1): Sigmoid()\n",
      "  (2): Linear(in_features=20, out_features=20, bias=True)\n",
      "  (3): Sigmoid()\n",
      "  (4): Linear(in_features=20, out_features=20, bias=True)\n",
      "  (5): Sigmoid()\n",
      "  (6): Linear(in_features=20, out_features=1, bias=True)\n",
      ")\n"
     ]
    }
   ],
   "source": [
    "model = nn.Sequential(\n",
    "            nn.Linear(2, 20),\n",
    "            nn.Sigmoid(),\n",
    "            nn.Linear(20, 20),\n",
    "            nn.Sigmoid(),\n",
    "            nn.Linear(20, 20),\n",
    "            nn.Sigmoid(),\n",
    "            nn.Linear(20, 1))\n",
    "\n",
    "optimizer = torch.optim.Adam(model.parameters())\n",
    "criterion = nn.MSELoss()\n",
    "print(model)"
   ]
  },
  {
   "cell_type": "code",
   "execution_count": 42,
   "metadata": {
    "colab": {
     "base_uri": "https://localhost:8080/",
     "height": 102
    },
    "colab_type": "code",
    "id": "x65VTiGlGgBA",
    "outputId": "11237b66-5adb-4377-d403-d727afbcf9bb"
   },
   "outputs": [
    {
     "name": "stdout",
     "output_type": "stream",
     "text": [
      "0: %: 0.000\n",
      "2000: %: 20.000\n",
      "4000: %: 40.000\n",
      "6000: %: 60.000\n",
      "8000: %: 80.000\n"
     ]
    }
   ],
   "source": [
    "total_loss = []\n",
    "num_samples = 10000\n",
    "\n",
    "for num in range(num_samples):\n",
    "    # Progress bar indicator\n",
    "    if num % (num_samples//5) == 0:\n",
    "        print('{0}: %: {1:.3f}'.format(num,num/num_samples * 100))\n",
    "        \n",
    "    # data prep\n",
    "    x = 4*torch.rand(2) #generate two random numbers uniformly on (0,4)\n",
    "    data, target = Variable(x), Variable(x[0] + x[1])\n",
    "    \n",
    "    # Feed forward through NN\n",
    "    output = model(data)\n",
    "    loss = criterion(output, target)\n",
    "    total_loss.append(loss)\n",
    "    \n",
    "    # Backpropagation\n",
    "    optimizer.zero_grad()\n",
    "    loss.backward()\n",
    "    optimizer.step()"
   ]
  },
  {
   "cell_type": "code",
   "execution_count": 43,
   "metadata": {
    "colab": {
     "base_uri": "https://localhost:8080/",
     "height": 978
    },
    "colab_type": "code",
    "id": "1juMhKhlGgBC",
    "outputId": "d46efa17-a5fb-4359-ac11-c06e0b385a8e"
   },
   "outputs": [
    {
     "data": {
      "image/png": "[encoded data removed]",
      "text/plain": [
       "<matplotlib.figure.Figure at 0x7efdbc3e7400>"
      ]
     },
     "metadata": {
      "tags": []
     },
     "output_type": "display_data"
    },
    {
     "data": {
      "image/png": "[encoded data removed]",
      "text/plain": [
       "<matplotlib.figure.Figure at 0x7efdbc395cf8>"
      ]
     },
     "metadata": {
      "tags": []
     },
     "output_type": "display_data"
    }
   ],
   "source": [
    "fig,ax=plt.subplots(figsize=(11,8))\n",
    "ax.plot(total_loss,marker='.',ls='',markersize=.8)\n",
    "ax.set_ylim(0,);ax.set_xlim(0,);ax.grid(alpha=0.2);\n",
    "ax.set_xlabel('training examples');ax.set_ylabel('mean squared loss');\n",
    "\n",
    "x,y=np.linspace(-5,8,100),[]\n",
    "\n",
    "for xx in x:\n",
    "    yy=model(torch.tensor([xx,2])).data.cpu().numpy()[0]\n",
    "    y.append(yy)\n",
    "y=np.array(y)\n",
    "\n",
    "fig,ax=plt.subplots(figsize=(11,8))\n",
    "ax.plot([-5,8],[-3,10],lw=2.0,label='actual',alpha=0.7)\n",
    "ax.fill_betweenx([-3,10],0,4,alpha=0.2)\n",
    "ax.scatter(x,y,marker='.',s=3.,label='prediction',color='r')\n",
    "ax.text(0.2,0,'Where we have \\ntraining data')\n",
    "ax.legend()\n",
    "ax.set_ylim(-3,10);ax.set_xlim(-5,8);\n",
    "ax.grid(alpha=0.2);\n",
    "ax.set_title('Sigmoid activation function');"
   ]
  },
  {
   "cell_type": "markdown",
   "metadata": {
    "colab_type": "text",
    "id": "WJwbLhcWGgBE"
   },
   "source": [
    "## Try your own activation functions!"
   ]
  },
  {
   "cell_type": "code",
   "execution_count": 0,
   "metadata": {
    "colab": {},
    "colab_type": "code",
    "id": "b8NfDHTvGgBF"
   },
   "outputs": [],
   "source": [
    "# Build your own adding machine using any of the \n",
    "# activation functions given above. Do any of them\n",
    "# perform worse than others?\n",
    "# See here for more functions\n",
    "\n",
    "#https://pytorch.org/docs/stable/nn.html#non-linear-activations-weighted-sum-nonlinearity\n",
    "\n",
    "\n",
    "model = nn.Sequential(\n",
    "            # code goes here\n",
    "            )\n",
    "\n",
    "optimizer = torch.optim.Adam(model.parameters())\n",
    "criterion = nn.MSELoss()\n",
    "print(model)"
   ]
  },
  {
   "cell_type": "code",
   "execution_count": 0,
   "metadata": {
    "colab": {},
    "colab_type": "code",
    "id": "aue_gW5qGgBG"
   },
   "outputs": [],
   "source": [
    "# check your loss scores\n",
    "\n",
    "total_loss = []\n",
    "num_samples = 10000\n",
    "\n",
    "for num in range(num_samples):\n",
    "    # Progress bar indicator\n",
    "    if num % (num_samples//5) == 0:\n",
    "        print('{0}: %: {1:.3f}'.format(num,num/num_samples * 100))\n",
    "        \n",
    "    # data prep\n",
    "    x = 4*torch.rand(2) #generate two random numbers uniformly on (0,4)\n",
    "    data, target = Variable(x), Variable(x[0] + x[1])\n",
    "    \n",
    "    # Feed forward through NN\n",
    "    output = model(data)\n",
    "    loss = criterion(output, target)\n",
    "    total_loss.append(loss)\n",
    "    \n",
    "    # Backpropagation\n",
    "    optimizer.zero_grad()\n",
    "    loss.backward()\n",
    "    optimizer.step()"
   ]
  },
  {
   "cell_type": "code",
   "execution_count": 0,
   "metadata": {
    "colab": {},
    "colab_type": "code",
    "id": "wV_RuL-SGgBI"
   },
   "outputs": [],
   "source": [
    "# Visualize your results\n",
    "fig,ax=plt.subplots(figsize=(11,8))\n",
    "ax.plot(total_loss,marker='.',ls='',markersize=.8)\n",
    "ax.set_ylim(0,);ax.set_xlim(0,);ax.grid(alpha=0.2);\n",
    "ax.set_xlabel('training examples');ax.set_ylabel('mean squared loss');\n",
    "\n",
    "x,y=np.linspace(-5,8,100),[]\n",
    "\n",
    "for xx in x:\n",
    "    yy=model(torch.tensor([xx,2])).data.cpu().numpy()[0]\n",
    "    y.append(yy)\n",
    "y=np.array(y)\n",
    "\n",
    "fig,ax=plt.subplots(figsize=(11,8))\n",
    "ax.plot([-5,8],[-3,10],lw=2.0,label='actual',alpha=0.7)\n",
    "ax.fill_betweenx([-3,10],0,4,alpha=0.2)\n",
    "ax.scatter(x,y,marker='.',s=3.,label='prediction',color='r')\n",
    "ax.text(0.2,0,'Where we have \\ntraining data')\n",
    "ax.legend()\n",
    "ax.set_ylim(-3,10);ax.set_xlim(-5,8);\n",
    "ax.grid(alpha=0.2);\n",
    "ax.set_title('Sigmoid activation function');"
   ]
  },
  {
   "cell_type": "markdown",
   "metadata": {
    "colab_type": "text",
    "id": "74iCWDNxGgBK"
   },
   "source": [
    "## Teaching a machine to draw circles\n",
    "\n",
    "Here the NN learns attempts to learn the 2d rotation matrix, parameterized by the generator of rotations in two dimensions:\n",
    "\n",
    "$R={\\begin{bmatrix}\\cos \\theta &-\\sin \\theta \\\\\\sin \\theta &\\cos \\theta \\\\\\end{bmatrix}}$"
   ]
  },
  {
   "cell_type": "code",
   "execution_count": 0,
   "metadata": {
    "colab": {},
    "colab_type": "code",
    "id": "si9AbHo3GgBK"
   },
   "outputs": [],
   "source": [
    "# First some helper functions for plotting and model training\n",
    "def train_models(models, optimizers, num_samples=1000, circle_interval=1.0, save_models=False, cuda=False, recurrent=False):\n",
    "    total_loss = []\n",
    "    for num in range(num_samples):\n",
    "        # progress indicator \n",
    "        if num % (num_samples//20) ==0:\n",
    "            print('{0}: %: {1:.3f}'.format(num, num/num_samples * 100))\n",
    "            \n",
    "        # data calc \n",
    "        # take a random point on the circle of radius 1\n",
    "        x, theta = torch.ones(2), circle_interval*2*np.pi*torch.rand(1)\n",
    "        R = torch.zeros(2,2)\n",
    "        R[0,:] = torch.Tensor([np.cos(theta[0]),-np.sin(theta[0])])\n",
    "        R[1,:] = torch.Tensor([np.sin(theta[0]), np.cos(theta[0])])\n",
    "        \n",
    "        data, target = Variable(theta), Variable(torch.mv(R,x))\n",
    "        \n",
    "        # Check if GPU can be used\n",
    "        if cuda:\n",
    "            data, target = data.cuda(), target.cuda()\n",
    "            \n",
    "        # learning phases \n",
    "        for idx, model in enumerate(models):\n",
    "            loss_iter = []\n",
    "            # forward \n",
    "            if recurrent:\n",
    "                output = model(data,None)\n",
    "            else:\n",
    "                output = model(data)\n",
    "            loss = criterion(output, target)\n",
    "            loss_iter.append(loss.data.item())\n",
    "            # backward \n",
    "            optimizers[idx].zero_grad()\n",
    "            loss.backward()\n",
    "            optimizers[idx].step()\n",
    "        total_loss.append(np.mean(loss_iter))\n",
    "        \n",
    "    # save model state \n",
    "    if save_models:\n",
    "        for l,model in enumerate(models):\n",
    "            torch.save(model.state_dict(), 'rotations_{}.pth'.format(l))\n",
    "    return total_loss,theta\n",
    "        \n",
    "def plot_circles(models, offset=0, CI=False, cuda=False, recurrent=False):\n",
    "    fig, axes = plt.subplots(figsize=(5*3,3.9),ncols=3)\n",
    "    x = torch.ones(2)\n",
    "    for k,ax in enumerate(axes):\n",
    "        ax.scatter(x[0],x[1], facecolors='none', edgecolors='r')\n",
    "        ax.scatter(x[0],x[1], facecolors='none', edgecolors='b')\n",
    "        x_real, y_real = [],[]\n",
    "        x_mean, y_mean = [],[]\n",
    "        x_std, y_std = [],[]\n",
    "        for theta in np.linspace((k+offset) *2*np.pi,(k+1+offset) *2*np.pi,300):\n",
    "            x_model,y_model = [],[]\n",
    "            # sythetic (real) data \n",
    "            data = Variable(torch.Tensor([theta]))#.cuda()\n",
    "            R = torch.zeros(2,2)\n",
    "            R[0,:] = torch.Tensor([np.cos(theta),-np.sin(theta)])\n",
    "            R[1,:] = torch.Tensor([np.sin(theta), np.cos(theta)])\n",
    "            real = torch.mv(R,x)\n",
    "            if cuda:\n",
    "                x_real.append(real[0].cpu().numpy())\n",
    "                y_real.append(real[1].cpu().numpy())\n",
    "            else:\n",
    "                x_real.append(real[0].numpy())\n",
    "                y_real.append(real[1].numpy())\n",
    "            # predict w/ all models \n",
    "            for model in models:\n",
    "                if recurrent:\n",
    "                    outputs=model(data,None).data\n",
    "                else:\n",
    "                    outputs=model(data).data\n",
    "                    \n",
    "                xx_model, yy_model = outputs[0],outputs[1]\n",
    "                \n",
    "                if cuda:\n",
    "                    x_model.append(xx_model.cpu().numpy())\n",
    "                    y_model.append(yy_model.cpu().numpy())\n",
    "                else:\n",
    "                    x_model.append(xx_model.numpy())\n",
    "                    y_model.append(yy_model.numpy())\n",
    "            # summarize all model predictions \n",
    "            x_mean.append(np.mean(x_model))\n",
    "            y_mean.append(np.mean(y_model))\n",
    "            x_std.append(np.std(x_model))\n",
    "            y_std.append(np.std(y_model))\n",
    "        # plotting data \n",
    "        ax.scatter(x_real,y_real, facecolors='none', edgecolors='r',label='real data',s=2.)\n",
    "        ax.scatter(x_mean,y_mean, facecolors='none', edgecolors='k',label='model data', alpha=0.9,s=2.)\n",
    "        if CI:\n",
    "            ax.fill_betweenx(y_mean,x_mean-3*np.array(x_std),x_mean+3*np.array(x_std), alpha=0.1,color='b')\n",
    "            ax.fill_between(x_mean,y_mean-3*np.array(y_std),y_mean+3*np.array(y_std), alpha=0.1,color='b')\n",
    "        ax.legend()\n",
    "        ax.set_ylim(-2,2);ax.set_xlim(-2,2);ax.grid(alpha=0.3)\n",
    "        ax.set_title(r'${}\\pi \\leq \\theta \\leq {}\\pi$'.format(2*(k+offset),2*(k+1+offset)),y=1.01);\n",
    "    \n",
    "    return x_mean, y_mean, np.array(x_std), np.array(y_std)\n",
    "        \n",
    "def weight_init(m): # so-called xavier normalization https://arxiv.org/abs/1211.5063\n",
    "    if isinstance(m, nn.Linear):\n",
    "        size = m.weight.size()\n",
    "        fan_out = size[0]\n",
    "        fan_in = size[1]\n",
    "        variance = np.sqrt(2.0/(fan_in + fan_out))\n",
    "        m.weight.data.normal_(0.0, variance)"
   ]
  },
  {
   "cell_type": "markdown",
   "metadata": {
    "colab_type": "text",
    "id": "PatAlzmQGgBL"
   },
   "source": [
    "### Defining a neural net as a class\n",
    "\n",
    "In general, when building your own neural nets, it is likely that you will be defining them in a class.\n",
    "This gives you the benefit of controlling every aspect of what you want the NN to do, albeit at the cost of \n",
    "writing more code"
   ]
  },
  {
   "cell_type": "code",
   "execution_count": 0,
   "metadata": {
    "colab": {},
    "colab_type": "code",
    "id": "1S-R_R2OGgBL"
   },
   "outputs": [],
   "source": [
    "num_nodes=10\n",
    "\n",
    "# define a class that inputs a nn.Module\n",
    "class Rotations(nn.Module):\n",
    "    def __init__(self):\n",
    "        \n",
    "        # it must inherit the .__init__() from the super class\n",
    "        super(Rotations, self).__init__()\n",
    "        \n",
    "        # define your layers\n",
    "        self.layer1 = nn.Sequential(\n",
    "            nn.Linear(1,num_nodes),\n",
    "            nn.Sigmoid(),\n",
    "            nn.Linear(num_nodes,2))\n",
    "    \n",
    "    # define forward propagation\n",
    "    # backpropagation is done for us by pytorch!\n",
    "    def forward(self, x):\n",
    "        out=self.layer1(x)\n",
    "        return out\n",
    "    \n",
    "    \n",
    "\n",
    "model = Rotations()\n",
    "optimizer = torch.optim.Adam(model.parameters())\n",
    "criterion = nn.MSELoss()\n",
    "print(model)\n",
    "\n",
    "total_loss, theta = train_models([model], [optimizer], num_samples=200000, circle_interval=2.0)\n",
    "\n",
    "fig,ax = plt.subplots(figsize=(11,8))\n",
    "ax.plot(total_loss,marker='.',ls='',markersize=.8)\n",
    "ax.set_ylim(0,);ax.set_xlim(0,);ax.grid(alpha=0.2);\n",
    "ax.set_xlabel('training examples');ax.set_ylabel('mean squared loss');\n",
    "\n",
    "output=plot_circles([model],offset=0,CI=False,recurrent=False)"
   ]
  },
  {
   "cell_type": "markdown",
   "metadata": {
    "colab_type": "text",
    "id": "Udu4wYJAGgBN"
   },
   "source": [
    "### Will a deeper network perform better?"
   ]
  },
  {
   "cell_type": "code",
   "execution_count": 0,
   "metadata": {
    "colab": {},
    "colab_type": "code",
    "id": "-AaCJbKUGgBO"
   },
   "outputs": [],
   "source": [
    "# Add more layers to the model and see if performance on the test set increases\n",
    "\n",
    "num_nodes=10\n",
    "\n",
    "class Rotations(nn.Module):\n",
    "    # add more layers and use any combination \n",
    "    # of activation functions you deem fit. \n",
    "    # See prior example for guidance\n",
    "\n",
    "model=Rotations()\n",
    "optimizer=torch.optim.Adam(model.parameters())\n",
    "criterion=nn.MSELoss()\n",
    "print(model)\n",
    "\n",
    "total_loss,theta=train_models([model],[optimizer],num_samples=200000,circle_interval=2.0)\n",
    "\n",
    "fig,ax=plt.subplots(figsize=(7,5))\n",
    "ax.plot(total_loss,marker='.',ls='',markersize=.8)\n",
    "ax.set_ylim(0,);ax.set_xlim(0,);ax.grid(alpha=0.2);\n",
    "ax.set_xlabel('training examples');ax.set_ylabel('mean squared loss');\n",
    "\n",
    "output=plot_circles([model],offset=0,CI=False,recurrent=False)"
   ]
  },
  {
   "cell_type": "markdown",
   "metadata": {
    "colab_type": "text",
    "id": "Qkw-xLc1GgBR"
   },
   "source": [
    "## Bayesian approach"
   ]
  },
  {
   "cell_type": "markdown",
   "metadata": {
    "colab_type": "text",
    "id": "T0F2n8RPGgBS"
   },
   "source": [
    "One simple approach to apply the bayesian method described by Yarin Gal, is to take multiple of the same models and train them independently. This allows each model to take independent paths through parameter space, usually finding their way near some optimal minima. In practice, this allows you to hedge the risk of getting stuck in some local minima and missing out on the global one, if it exists. \n",
    "\n",
    "A visual way of understanding the situation of training a machine learning model, in general, is by considering a 3D surface plot where the x and y dimensions are two parameters you may modify, with the loss on the z axis, or height, which your aim is to minimize. \n",
    "\n",
    "![landscape of deep learning models](http://7xihzu.com1.z0.glb.clouddn.com/20160716/graphical-idea-backprop.png)\n",
    "\n",
    "The surface that the data carves out in this space is predicated by the data; the aim of the model design is then to build a model flexible and robust enough to find the global minima, but not overly complex enough to overfit and get stuck at a local minima. Also, if your model is too simple, it can skip right over all the minima altogether, and not learn the nuance of the process described by the data. Having too high/low of a learning rate can also make the training process difficult."
   ]
  },
  {
   "cell_type": "markdown",
   "metadata": {
    "colab_type": "text",
    "id": "d4SgRTmCGgBS"
   },
   "source": [
    "# Image Recognition Using Transfer Learning\n",
    "\n",
    "![Convolutional Architecture](https://cdn-images-1.medium.com/max/1600/1*NQQiyYqJJj4PSYAeWvxutg.png)"
   ]
  },
  {
   "cell_type": "code",
   "execution_count": 4,
   "metadata": {
    "colab": {
     "base_uri": "https://localhost:8080/",
     "height": 51
    },
    "colab_type": "code",
    "id": "TbybW7uBGgBS",
    "outputId": "d92de53b-cb8b-4123-bdcd-a6c0a017129c"
   },
   "outputs": [
    {
     "name": "stdout",
     "output_type": "stream",
     "text": [
      "Files already downloaded and verified\n",
      "Files already downloaded and verified\n"
     ]
    }
   ],
   "source": [
    "transform = transforms.Compose(\n",
    "    [transforms.ToTensor(),\n",
    "     transforms.Normalize((0.5, 0.5, 0.5), (0.5, 0.5, 0.5))])\n",
    "\n",
    "trainset = torchvision.datasets.CIFAR10(root='./data', train=True,\n",
    "                                        download=True, transform=transform)\n",
    "trainloader = torch.utils.data.DataLoader(trainset, batch_size=4,\n",
    "                                          shuffle=True, num_workers=2)\n",
    "\n",
    "testset = torchvision.datasets.CIFAR10(root='./data', train=False,\n",
    "                                       download=True, transform=transform)\n",
    "testloader = torch.utils.data.DataLoader(testset, batch_size=4,\n",
    "                                         shuffle=False, num_workers=2)\n",
    "\n",
    "classes = ('plane', 'car', 'bird', 'cat',\n",
    "           'deer', 'dog', 'frog', 'horse', 'ship', 'truck')"
   ]
  },
  {
   "cell_type": "code",
   "execution_count": 0,
   "metadata": {
    "colab": {},
    "colab_type": "code",
    "id": "VNSBN8KHGgBU"
   },
   "outputs": [],
   "source": [
    "# functions to show an image\n",
    "def imshow(img):\n",
    "    img = img / 2 + 0.5     # unnormalize\n",
    "    npimg = img.numpy()\n",
    "    plt.imshow(np.transpose(npimg, (1, 2, 0)))"
   ]
  },
  {
   "cell_type": "code",
   "execution_count": 6,
   "metadata": {
    "colab": {
     "base_uri": "https://localhost:8080/",
     "height": 138
    },
    "colab_type": "code",
    "id": "bFD3Ox5kGgBW",
    "outputId": "7c5919c2-821f-48bf-b706-0fea9d264929"
   },
   "outputs": [
    {
     "data": {
      "image/png": "[encoded data removed]",
      "text/plain": [
       "<matplotlib.figure.Figure at 0x7efdc30eb940>"
      ]
     },
     "metadata": {
      "tags": []
     },
     "output_type": "display_data"
    }
   ],
   "source": [
    "# get some random training images\n",
    "dataiter = iter(trainloader)\n",
    "images, labels = dataiter.next()\n",
    "\n",
    "# show images\n",
    "imshow(torchvision.utils.make_grid(images))"
   ]
  },
  {
   "cell_type": "code",
   "execution_count": 7,
   "metadata": {
    "colab": {
     "base_uri": "https://localhost:8080/",
     "height": 34
    },
    "colab_type": "code",
    "id": "iwbZ10HlGgBY",
    "outputId": "638e259e-981f-4118-a973-14af3a8ae835"
   },
   "outputs": [
    {
     "name": "stdout",
     "output_type": "stream",
     "text": [
      " bird   cat   car   cat\n"
     ]
    }
   ],
   "source": [
    "# what are the labels?\n",
    "print(' '.join('%5s' % classes[labels[j]] for j in range(4)))"
   ]
  },
  {
   "cell_type": "code",
   "execution_count": 0,
   "metadata": {
    "colab": {},
    "colab_type": "code",
    "id": "EHUp6hkKGgBb"
   },
   "outputs": [],
   "source": [
    "# Build our first image recognition NN\n",
    "\n",
    "class NotQuiteImageNet(nn.Module):\n",
    "    def __init__(self):\n",
    "        super(NotQuiteImageNet, self).__init__()\n",
    "        self.conv1 = nn.Conv2d(3, 6, 5)\n",
    "        self.pool = nn.MaxPool2d(2, 2)\n",
    "        self.conv2 = nn.Conv2d(6, 16, 5)\n",
    "        self.fc1 = nn.Linear(16 * 5 * 5, 120)\n",
    "        self.fc2 = nn.Linear(120, 84)\n",
    "        self.fc3 = nn.Linear(84, 10)\n",
    "        \n",
    "    def forward(self, x):\n",
    "        x = self.pool(F.relu(self.conv1(x)))\n",
    "        x = self.pool(F.relu(self.conv2(x)))\n",
    "        x = x.view(-1, 16 * 5 * 5)\n",
    "        x = F.relu(self.fc1(x))\n",
    "        x = F.relu(self.fc2(x))\n",
    "        x = self.fc3(x)\n",
    "        return x"
   ]
  },
  {
   "cell_type": "code",
   "execution_count": 0,
   "metadata": {
    "colab": {},
    "colab_type": "code",
    "id": "2_-Ll1pzGgBe"
   },
   "outputs": [],
   "source": [
    "imagenet = NotQuiteImageNet()\n",
    "\n",
    "criterion = nn.CrossEntropyLoss()\n",
    "optimizer = torch.optim.SGD(imagenet.parameters(), lr=0.001, momentum=0.9)"
   ]
  },
  {
   "cell_type": "code",
   "execution_count": 10,
   "metadata": {
    "colab": {
     "base_uri": "https://localhost:8080/",
     "height": 238
    },
    "colab_type": "code",
    "id": "AzC536GRGgBg",
    "outputId": "d1a71a82-79ab-4571-b700-5d5ca23089dc"
   },
   "outputs": [
    {
     "name": "stdout",
     "output_type": "stream",
     "text": [
      "[1,  2000] loss: 2.221\n",
      "[1,  4000] loss: 1.848\n",
      "[1,  6000] loss: 1.668\n",
      "[1,  8000] loss: 1.570\n",
      "[1, 10000] loss: 1.504\n",
      "[1, 12000] loss: 1.458\n",
      "[2,  2000] loss: 1.398\n",
      "[2,  4000] loss: 1.371\n",
      "[2,  6000] loss: 1.352\n",
      "[2,  8000] loss: 1.320\n",
      "[2, 10000] loss: 1.281\n",
      "[2, 12000] loss: 1.285\n",
      "Finished Training\n"
     ]
    }
   ],
   "source": [
    "# running for short epochs to minimize compute time\n",
    "for epoch in range(2):  # loop over the dataset multiple times\n",
    "\n",
    "    running_loss = 0.0\n",
    "    for i, data in enumerate(trainloader, 0):\n",
    "        # get the inputs\n",
    "        inputs, labels = data\n",
    "\n",
    "        # zero the parameter gradients\n",
    "        optimizer.zero_grad()\n",
    "\n",
    "        # forward + backward + optimize\n",
    "        outputs = imagenet(inputs)\n",
    "        loss = criterion(outputs, labels)\n",
    "        loss.backward()\n",
    "        optimizer.step()\n",
    "\n",
    "        # print statistics\n",
    "        running_loss += loss.item()\n",
    "        if i % 2000 == 1999:    # print every 2000 mini-batches\n",
    "            print('[%d, %5d] loss: %.3f' %\n",
    "                  (epoch + 1, i + 1, running_loss / 2000))\n",
    "            running_loss = 0.0\n",
    "\n",
    "print('Finished Training')"
   ]
  },
  {
   "cell_type": "code",
   "execution_count": 11,
   "metadata": {
    "colab": {
     "base_uri": "https://localhost:8080/",
     "height": 588
    },
    "colab_type": "code",
    "id": "nGaBz4dbGgBj",
    "outputId": "4d697b44-add4-44f1-c35b-9291ce4dc588"
   },
   "outputs": [
    {
     "name": "stderr",
     "output_type": "stream",
     "text": [
      "Exception ignored in: <bound method _DataLoaderIter.__del__ of <torch.utils.data.dataloader._DataLoaderIter object at 0x7efdf7b67b00>>\n",
      "Traceback (most recent call last):\n",
      "  File \"/usr/local/lib/python3.6/dist-packages/torch/utils/data/dataloader.py\", line 399, in __del__\n",
      "    self._shutdown_workers()\n",
      "  File \"/usr/local/lib/python3.6/dist-packages/torch/utils/data/dataloader.py\", line 378, in _shutdown_workers\n",
      "    self.worker_result_queue.get()\n",
      "  File \"/usr/lib/python3.6/multiprocessing/queues.py\", line 337, in get\n",
      "    return _ForkingPickler.loads(res)\n",
      "  File \"/usr/local/lib/python3.6/dist-packages/torch/multiprocessing/reductions.py\", line 151, in rebuild_storage_fd\n",
      "    fd = df.detach()\n",
      "  File \"/usr/lib/python3.6/multiprocessing/resource_sharer.py\", line 57, in detach\n",
      "    with _resource_sharer.get_connection(self._id) as conn:\n",
      "  File \"/usr/lib/python3.6/multiprocessing/resource_sharer.py\", line 87, in get_connection\n",
      "    c = Client(address, authkey=process.current_process().authkey)\n",
      "  File \"/usr/lib/python3.6/multiprocessing/connection.py\", line 493, in Client\n",
      "    answer_challenge(c, authkey)\n",
      "  File \"/usr/lib/python3.6/multiprocessing/connection.py\", line 737, in answer_challenge\n",
      "    response = connection.recv_bytes(256)        # reject large message\n",
      "  File \"/usr/lib/python3.6/multiprocessing/connection.py\", line 216, in recv_bytes\n",
      "    buf = self._recv_bytes(maxlength)\n",
      "  File \"/usr/lib/python3.6/multiprocessing/connection.py\", line 407, in _recv_bytes\n",
      "    buf = self._recv(4)\n",
      "  File \"/usr/lib/python3.6/multiprocessing/connection.py\", line 379, in _recv\n",
      "    chunk = read(handle, remaining)\n",
      "ConnectionResetError: [Errno 104] Connection reset by peer\n"
     ]
    },
    {
     "data": {
      "image/png": "[encoded data removed]",
      "text/plain": [
       "<matplotlib.figure.Figure at 0x7efdc3798fd0>"
      ]
     },
     "metadata": {
      "tags": []
     },
     "output_type": "display_data"
    }
   ],
   "source": [
    "dataiter = iter(testloader)\n",
    "images, labels = dataiter.next()\n",
    "\n",
    "# print images\n",
    "imshow(torchvision.utils.make_grid(images))"
   ]
  },
  {
   "cell_type": "code",
   "execution_count": 12,
   "metadata": {
    "colab": {
     "base_uri": "https://localhost:8080/",
     "height": 34
    },
    "colab_type": "code",
    "id": "7vLRinTKGgBk",
    "outputId": "8a0414e0-6b9b-468c-8ac7-7a2e3736b819"
   },
   "outputs": [
    {
     "name": "stdout",
     "output_type": "stream",
     "text": [
      "GroundTruth:   cat  ship  ship plane\n"
     ]
    }
   ],
   "source": [
    "print('GroundTruth:', ' '.join('%5s' % classes[labels[j]] for j in range(4)))"
   ]
  },
  {
   "cell_type": "code",
   "execution_count": 0,
   "metadata": {
    "colab": {},
    "colab_type": "code",
    "id": "Lyca2liPGgBl"
   },
   "outputs": [],
   "source": [
    "outputs = imagenet(images)"
   ]
  },
  {
   "cell_type": "code",
   "execution_count": 14,
   "metadata": {
    "colab": {
     "base_uri": "https://localhost:8080/",
     "height": 34
    },
    "colab_type": "code",
    "id": "r4n1GGR5GgBm",
    "outputId": "bbb4990a-91bf-4864-d1cd-dd4e6c566a4a"
   },
   "outputs": [
    {
     "name": "stdout",
     "output_type": "stream",
     "text": [
      "Predicted:   bird   car  ship  ship\n"
     ]
    }
   ],
   "source": [
    "_, predicted = torch.max(outputs, 1)\n",
    "\n",
    "print('Predicted: ', ' '.join('%5s' % classes[predicted[j]]\n",
    "                              for j in range(4)))"
   ]
  },
  {
   "cell_type": "code",
   "execution_count": 15,
   "metadata": {
    "colab": {
     "base_uri": "https://localhost:8080/",
     "height": 34
    },
    "colab_type": "code",
    "id": "fQ0QUExqGgBo",
    "outputId": "92bbeffd-d00b-400b-9b62-cdf71bc519ef"
   },
   "outputs": [
    {
     "name": "stdout",
     "output_type": "stream",
     "text": [
      "Accuracy of the network on the 10000 test images: 54 %\n"
     ]
    }
   ],
   "source": [
    "correct = 0\n",
    "total = 0\n",
    "with torch.no_grad():\n",
    "    for data in testloader:\n",
    "        images, labels = data\n",
    "        outputs = imagenet(images)\n",
    "        _, predicted = torch.max(outputs.data, 1)\n",
    "        total += labels.size(0)\n",
    "        correct += (predicted == labels).sum().item()\n",
    "\n",
    "print('Accuracy of the network on the 10000 test images: %d %%' % (\n",
    "    100 * correct / total))\n"
   ]
  },
  {
   "cell_type": "markdown",
   "metadata": {
    "colab_type": "text",
    "id": "qEPqARhTGgBp"
   },
   "source": [
    "## Transfer Learning\n",
    "\n",
    "For most computer vision tasks you will encounter, it is almost always true that one or both of these things will be true:\n",
    "\n",
    "1) You do not have enough data to build your own deep learning model from scratch\n",
    "2) You will not have enough compute resources (unless you work for a large tech company)\n",
    "\n",
    "So, instead - and with equally good results - we download a pre-trained model like ResNet50 and remove the last fully connected layer. This allows us to leverage all of the work done by the pre-trained model and modify the last layer to suit our needs.\n",
    "\n",
    "Let's see this in action"
   ]
  },
  {
   "cell_type": "code",
   "execution_count": 0,
   "metadata": {
    "colab": {},
    "colab_type": "code",
    "id": "yLIp0-bAGgBp"
   },
   "outputs": [],
   "source": [
    "\n",
    "# this normalizes our images for all 3 channels (RGB)\n",
    "normalize = transforms.Normalize(mean=[0.485, 0.456, 0.406],\n",
    "                                 std=[0.229, 0.224, 0.225])\n",
    " \n",
    "data_transforms = {\n",
    "    'train':\n",
    "        transforms.Compose([\n",
    "            transforms.Resize((224,224)),\n",
    "            transforms.RandomAffine(0, shear=10, scale=(0.8,1.2)),\n",
    "            transforms.RandomHorizontalFlip(),\n",
    "            transforms.ToTensor(),\n",
    "            normalize]),\n",
    "    'validation':\n",
    "        transforms.Compose([\n",
    "            transforms.Resize((224,224)),\n",
    "            transforms.ToTensor(),\n",
    "            normalize])}\n",
    " \n",
    "image_datasets = {\n",
    "    'train':\n",
    "        datasets.ImageFolder('data/train', data_transforms['train']),\n",
    "    'validation':\n",
    "        datasets.ImageFolder('data/validation', data_transforms['validation'])}\n",
    " \n",
    "dataloaders = {\n",
    "    'train':\n",
    "        torch.utils.data.DataLoader(\n",
    "            image_datasets['train'],\n",
    "            batch_size=32,\n",
    "            shuffle=True,\n",
    "            num_workers=0),\n",
    "    'validation':\n",
    "        torch.utils.data.DataLoader(\n",
    "            image_datasets['validation'],\n",
    "            batch_size=32,\n",
    "            shuffle=False,\n",
    "            num_workers=0)}"
   ]
  },
  {
   "cell_type": "code",
   "execution_count": 0,
   "metadata": {
    "colab": {},
    "colab_type": "code",
    "id": "pz602saAGgBq"
   },
   "outputs": [],
   "source": [
    "#device = torch.device(\"cuda:0\" if torch.cuda.is_available() else \"cpu\")\n",
    "device = 'cpu' \n",
    "model = models.resnet50(pretrained=True).to(device)\n",
    " \n",
    "for param in model.parameters():\n",
    "    param.requires_grad = False\n",
    " \n",
    "model.fc = nn.Sequential(\n",
    "    nn.Linear(2048, 128),\n",
    "    nn.ReLU(inplace=True),\n",
    "    nn.Linear(128, 2)).to(device)\n",
    " \n",
    "criterion = nn.CrossEntropyLoss()\n",
    "optimizer = torch.optim.Adam(model.fc.parameters())"
   ]
  },
  {
   "cell_type": "code",
   "execution_count": 18,
   "metadata": {
    "colab": {
     "base_uri": "https://localhost:8080/",
     "height": 221
    },
    "colab_type": "code",
    "id": "WEpBufGVGgBs",
    "outputId": "972575ab-7b77-4d15-e063-fe7274b0dad6"
   },
   "outputs": [
    {
     "name": "stdout",
     "output_type": "stream",
     "text": [
      "Epoch 1/3\n",
      "----------\n",
      "train loss: 0.5808981483539175, acc: 0.7406340057636888\n",
      "validation loss: 0.4189994043111801, acc: 0.825\n",
      "Epoch 2/3\n",
      "----------\n",
      "train loss: 0.31897986128453903, acc: 0.8861671469740634\n",
      "validation loss: 0.26883769750595093, acc: 0.905\n",
      "Epoch 3/3\n",
      "----------\n",
      "train loss: 0.2421193865774688, acc: 0.9106628242074928\n",
      "validation loss: 0.23682956099510194, acc: 0.91\n"
     ]
    }
   ],
   "source": [
    "def train_model(model, criterion, optimizer, num_epochs=3):\n",
    "    for epoch in range(num_epochs):\n",
    "        print(f'Epoch {epoch + 1}/{num_epochs}')\n",
    "        print('-' * 10)\n",
    " \n",
    "        for phase in ['train', 'validation']:\n",
    "            if phase == 'train':\n",
    "                model.train()\n",
    "            else:\n",
    "                model.eval()\n",
    " \n",
    "            running_loss = 0.0\n",
    "            running_corrects = 0\n",
    " \n",
    "            for inputs, labels in dataloaders[phase]:\n",
    "                inputs = inputs.to(device)\n",
    "                labels = labels.to(device)\n",
    " \n",
    "                outputs = model(inputs)\n",
    "                loss = criterion(outputs, labels)\n",
    " \n",
    "                if phase == 'train':\n",
    "                    optimizer.zero_grad()\n",
    "                    loss.backward()\n",
    "                    optimizer.step()\n",
    " \n",
    "                _, preds = torch.max(outputs, 1)\n",
    "                running_loss += loss.item() * inputs.size(0)\n",
    "                running_corrects += torch.sum(preds == labels.data)\n",
    " \n",
    "            epoch_loss = running_loss / len(image_datasets[phase])\n",
    "            epoch_acc = running_corrects.double() / len(image_datasets[phase])\n",
    " \n",
    "            print(f'{phase} loss: {epoch_loss}, acc: {epoch_acc}')\n",
    "    return model\n",
    " \n",
    "model_trained = train_model(model, criterion, optimizer, num_epochs=3)"
   ]
  },
  {
   "cell_type": "markdown",
   "metadata": {
    "colab_type": "text",
    "id": "LXNttabeGgBu"
   },
   "source": [
    "### Saving Models"
   ]
  },
  {
   "cell_type": "code",
   "execution_count": 0,
   "metadata": {
    "colab": {},
    "colab_type": "code",
    "id": "Cnp6IIL4GgBw"
   },
   "outputs": [],
   "source": [
    "torch.save(model_trained.state_dict(),'data/avp_weights.h5')"
   ]
  },
  {
   "cell_type": "markdown",
   "metadata": {
    "colab_type": "text",
    "id": "holjr7jVGgBz"
   },
   "source": [
    "### Loading Models"
   ]
  },
  {
   "cell_type": "code",
   "execution_count": 0,
   "metadata": {
    "colab": {},
    "colab_type": "code",
    "id": "dOCP_h_YGgB0"
   },
   "outputs": [],
   "source": [
    "model = models.resnet50(pretrained=False).to(device)\n",
    "model.fc = nn.Sequential(\n",
    "    nn.Linear(2048, 128),\n",
    "    nn.ReLU(inplace=True),\n",
    "    nn.Linear(128, 2)).to(device)\n",
    "model.load_state_dict(torch.load('data/avp_weights.h5'))"
   ]
  },
  {
   "cell_type": "markdown",
   "metadata": {
    "colab_type": "text",
    "id": "nTKo5vJGGgB1"
   },
   "source": [
    "### Make predictions on test images"
   ]
  },
  {
   "cell_type": "code",
   "execution_count": 0,
   "metadata": {
    "colab": {},
    "colab_type": "code",
    "id": "hCl4HSNkGgB1"
   },
   "outputs": [],
   "source": [
    "validation_img_paths = [\"data/validation/alien/11.jpg\",\n",
    "                        \"data/validation/alien/22.jpg\",\n",
    "                        \"data/validation/predator/33.jpg\"]\n",
    "img_list = [Image.open(img_path) for img_path in validation_img_paths]\n"
   ]
  },
  {
   "cell_type": "code",
   "execution_count": 0,
   "metadata": {
    "colab": {},
    "colab_type": "code",
    "id": "gDFwslxiGgB3"
   },
   "outputs": [],
   "source": [
    "validation_batch = torch.stack([data_transforms['validation'](img).to(device)\n",
    "                                for img in img_list])\n",
    " \n",
    "pred_logits_tensor = model(validation_batch)\n",
    "pred_probs = F.softmax(pred_logits_tensor, dim=1).cpu().data.numpy()"
   ]
  },
  {
   "cell_type": "code",
   "execution_count": 23,
   "metadata": {
    "colab": {
     "base_uri": "https://localhost:8080/",
     "height": 304
    },
    "colab_type": "code",
    "id": "QkP1JOPHGgB4",
    "outputId": "21cdd958-2c93-4db1-cfb7-79236adf8cbb"
   },
   "outputs": [
    {
     "data": {
      "image/png": "[encoded data removed]",
      "text/plain": [
       "<matplotlib.figure.Figure at 0x7efdbf6396a0>"
      ]
     },
     "metadata": {
      "tags": []
     },
     "output_type": "display_data"
    }
   ],
   "source": [
    "fig, axs = plt.subplots(1, len(img_list), figsize=(20, 5))\n",
    "for i, img in enumerate(img_list):\n",
    "    ax = axs[i]\n",
    "    ax.axis('off')\n",
    "    ax.set_title(\"{:.0f}% Alien, {:.0f}% Predator\".format(100*pred_probs[i,0],\n",
    "                                                          100*pred_probs[i,1]))\n",
    "    ax.imshow(img)\n"
   ]
  },
  {
   "cell_type": "markdown",
   "metadata": {
    "colab_type": "text",
    "id": "C6DjUDwXGgB5"
   },
   "source": [
    "# CNN from Scratch"
   ]
  },
  {
   "cell_type": "markdown",
   "metadata": {
    "colab_type": "text",
    "id": "XPL5VrjUGgB5"
   },
   "source": [
    "###  `Datasets` and `Dataloader`s\n",
    "\n",
    "In PyTorch, you'll usually create or import a `Dataset` subclass to represent your data. Once you've done that, you can use it to instantiate a `Dataloader` object which allows you to easily iterate over your training set in `BATCH_SIZE` chunks."
   ]
  },
  {
   "cell_type": "code",
   "execution_count": 0,
   "metadata": {
    "colab": {},
    "colab_type": "code",
    "id": "chLx3DE7GgB6"
   },
   "outputs": [],
   "source": [
    "image_size = 28\n",
    "num_classes = 10\n",
    "num_channels = 1\n",
    "batch_size = 64\n",
    "id_to_label = {\n",
    "    0 :'T-shirt/top',\n",
    "    1 :'Trouser',\n",
    "    2 :'Pullover',\n",
    "    3 :'Dress',\n",
    "    4 :'Coat',\n",
    "    5 :'Sandal',\n",
    "    6 :'Shirt',\n",
    "    7 :'Sneaker',\n",
    "    8 :'Bag',\n",
    "    9 :'Ankle boot'}\n",
    "\n",
    "\n",
    "class FashionDataset(Dataset):\n",
    "\n",
    "    def __init__(self, path, \n",
    "                 image_size, num_channels, image_transform=None):\n",
    "        self.num_channels = num_channels\n",
    "        self.image_size = image_size\n",
    "        self.image_transform = image_transform\n",
    "        data_df = pd.read_csv(path)\n",
    "        self.X = data_df.values[:, 1:]\n",
    "        self.X = self.X.reshape(-1, image_size, image_size, num_channels)\n",
    "        self.X = self.X.astype('float32')\n",
    "        self.y = data_df.values[:, 0]\n",
    "        \n",
    "    def __getitem__(self, index):\n",
    "        batch_X, batch_y = self.X[index], self.y[index]\n",
    "        if self.image_transform is not None:\n",
    "            batch_X = self.image_transform(batch_X)\n",
    "        return batch_X, batch_y\n",
    "\n",
    "    def __len__(self):\n",
    "        return len(self.X)\n",
    "\n",
    "# This simple transform coverts the image from an numpy array\n",
    "# to a PyTorch tensor and remaps its values from 0-255 to 0-1. \n",
    "# Many other types of transformations are available, and they \n",
    "# can easily be composed into a pipeline. For more info see: \n",
    "# https://pytorch.org/docs/stable/torchvision/transforms.html\n",
    "image_transform = transforms.Compose([transforms.ToTensor()])\n",
    "\n",
    "train_dataset = FashionDataset(\n",
    "    'fashionmnist/fashion-mnist_train.csv', \n",
    "    image_size, \n",
    "    num_channels, \n",
    "    image_transform)\n",
    "\n",
    "train_dataloader = DataLoader(\n",
    "    dataset=train_dataset,\n",
    "    batch_size=batch_size,\n",
    "    shuffle=True)\n",
    "\n",
    "val_dataset = FashionDataset(\n",
    "    'fashionmnist/fashion-mnist_test.csv', \n",
    "    image_size, \n",
    "    num_channels, \n",
    "    image_transform)\n",
    "\n",
    "val_dataloader = DataLoader(\n",
    "    dataset=train_dataset,\n",
    "    batch_size=batch_size)"
   ]
  },
  {
   "cell_type": "markdown",
   "metadata": {
    "colab_type": "text",
    "id": "L3HUhDJkGgB8"
   },
   "source": [
    "### Show some examples from the training set"
   ]
  },
  {
   "cell_type": "code",
   "execution_count": 0,
   "metadata": {
    "colab": {},
    "colab_type": "code",
    "id": "23kctDjbGgB8"
   },
   "outputs": [],
   "source": [
    "def plot_images(data, labels, image_size):\n",
    "    size = 28\n",
    "    fig, axes = plt.subplots(\n",
    "        1, data.shape[0], figsize=(16, 4), \n",
    "        subplot_kw={'xticks':[], 'yticks':[]},\n",
    "        gridspec_kw=dict(hspace=0.1, wspace=0.1))\n",
    "    for i, ax in enumerate(axes.flat):\n",
    "        ax.imshow(data[i].reshape(image_size, image_size), cmap='binary')\n",
    "        ax.set_xlabel(labels[i])\n",
    "        \n",
    "images = train_dataset.X[:10]\n",
    "class_ids = train_dataset.y[:10]\n",
    "class_labels = [id_to_label[class_id] for class_id in class_ids]\n",
    "plot_images(images, class_labels, image_size)"
   ]
  },
  {
   "cell_type": "markdown",
   "metadata": {
    "colab_type": "text",
    "id": "N5CZyAizGgB-"
   },
   "source": [
    "## Modeling"
   ]
  },
  {
   "cell_type": "markdown",
   "metadata": {
    "colab_type": "text",
    "id": "8lSCbGPgGgB-"
   },
   "source": [
    "The model below uses a single convolution with only 4 filters. Because of the simplicity of our dataset, it still manages to achieve nearly 90% accuracy after only 5 epochs and a minute or two of training.\n",
    "\n",
    "Complete `FashionModel` by writing the `forward()` function. The layers you need have already been created for you; you just need to pass the input through them and return it. (Hint: You'll need to reshape the output from the convolutional layer.) Once you've got the model up and running, try to see if you can increase the accuracy on the validation set to above 95%.\n",
    "\n",
    "Things you might try:\n",
    "\n",
    "* Increasing the number of filters per convolution.\n",
    "* Adding more convolutions.\n",
    "* Adding a `BatchNorm2d` layer after `Conv2d`.\n",
    "* Increasing the number of epochs.\n",
    "* Changing the kernel size.\n",
    "* Using different types of pooling or using stride > 1 in convolutional layers instead of pooling.\n",
    "\n",
    "You might also find the [PyTorch API reference](https://pytorch.org/docs/stable/nn.html) useful."
   ]
  },
  {
   "cell_type": "code",
   "execution_count": 0,
   "metadata": {
    "colab": {},
    "colab_type": "code",
    "id": "QFZwwLpkGgB_"
   },
   "outputs": [],
   "source": [
    "class FashionModel(nn.Module):\n",
    "    \n",
    "    def __init__(self, num_channels, num_classes):\n",
    "        super().__init__()\n",
    "        self.conv_1 = nn.Sequential(\n",
    "            nn.Conv2d(1, 4, kernel_size=3, stride=1, padding=1),\n",
    "            nn.ReLU(),\n",
    "            nn.MaxPool2d(kernel_size=2, stride=2))\n",
    "        self.linear = nn.Linear(14 * 14 * 4, num_classes)\n",
    "        \n",
    "        ## Add more layers\n",
    "        \n",
    "    def forward(self, x):\n",
    "        ## Don't forgot to add the forward method!\n",
    "        return x\n",
    "\n",
    "# Instantiate the model.    \n",
    "model = FashionModel(num_channels, num_classes)\n",
    "\n",
    "# Send the model's tensors to the GPU if available.\n",
    "device = torch.device('cuda' if torch.cuda.is_available() else 'cpu')\n",
    "model = model.to(device)      "
   ]
  },
  {
   "cell_type": "markdown",
   "metadata": {
    "colab_type": "text",
    "id": "NtAc1Sz9GgCC"
   },
   "source": [
    "## Training"
   ]
  },
  {
   "cell_type": "code",
   "execution_count": 0,
   "metadata": {
    "colab": {},
    "colab_type": "code",
    "id": "MRZaERa_GgCC"
   },
   "outputs": [],
   "source": [
    "num_epochs = 10\n",
    "log_freq = 100\n",
    "checkpoint_path = 'checkpoint.pickle'\n",
    "\n",
    "\n",
    "optimizer = torch.optim.Adam(model.parameters())\n",
    "criterion = nn.CrossEntropyLoss()\n",
    "for epoch in range(1, num_epochs + 1):\n",
    "    model.train()  # Switch to training mode.\n",
    "    print(f'Starting epoch {epoch}.')\n",
    "    epoch_start_time = time.time()\n",
    "    running_loss = 0.0\n",
    "    running_accuracy = 0.0\n",
    "    for batch_id, (batch_X, batch_y) in enumerate(train_dataloader):\n",
    "        batch_X = batch_X.to(device)\n",
    "        batch_y = batch_y.to(device)\n",
    "        output = model(batch_X)\n",
    "        loss = criterion(output, batch_y)\n",
    "        optimizer.zero_grad()\n",
    "        loss.backward()\n",
    "        optimizer.step()\n",
    "        \n",
    "        # Periodically print the loss and prediction accuracy.\n",
    "        running_loss += loss.item()\n",
    "        y_pred = output.argmax(dim=-1)\n",
    "        running_accuracy += accuracy_score(batch_y, y_pred)\n",
    "        if batch_id % log_freq == log_freq - 1:\n",
    "            average_loss = running_loss / log_freq\n",
    "            average_accuracy = running_accuracy / log_freq\n",
    "            print(f'Mini-batch: {batch_id + 1}/{len(train_dataloader)} '\n",
    "                  f'Loss: {average_loss:.5f} Accuracy: {average_accuracy:.5f}')\n",
    "            running_loss = 0.0\n",
    "            running_accuracy = 0.0\n",
    "            \n",
    "    # Log elapsed_time for the epoch.            \n",
    "    elapsed_time = time.time() - epoch_start_time\n",
    "    print(f'\\nEpoch {epoch} completed in {elapsed_time // 60:.0f} minutes '\n",
    "          f'{elapsed_time % 60:.0f} seconds.')\n",
    "    \n",
    "    # Calculate and log loss on validation set.\n",
    "    with torch.no_grad():\n",
    "        model.eval()\n",
    "        running_loss = 0.0\n",
    "        running_accuracy = 0.0\n",
    "        for batch_id, (batch_X, batch_y) in enumerate(val_dataloader):\n",
    "            batch_X = batch_X.to(device)\n",
    "            batch_y = batch_y.to(device)\n",
    "            output = model(batch_X)\n",
    "            loss = criterion(output, batch_y)\n",
    "            running_loss += loss.item()\n",
    "            y_pred = output.argmax(dim=-1)  \n",
    "            running_accuracy += accuracy_score(batch_y, y_pred)\n",
    "        average_loss = running_loss / len(val_dataloader)\n",
    "        average_accuracy = running_accuracy / len(val_dataloader)\n",
    "        print(f'Val Loss: {average_loss:.5f} Val Accuracy: {average_accuracy:.5f}\\n')"
   ]
  },
  {
   "cell_type": "markdown",
   "metadata": {
    "colab_type": "text",
    "id": "XCSZd1BcGgCD"
   },
   "source": [
    "# RNN Character Level Generation\n",
    "\n",
    "Text generation is a fun way to familiarize yourself with Recurrent Neural Nets.\n",
    "\n",
    "In this notebook, we will deal with **character-level** text generation and why they can be just as useful as word-level text generation.\n",
    "\n",
    "For this example, we'll be using text files to generate code similar to our input. In other words, if we put in Trump tweets, our generator should output words that sound like Trump.\n",
    "\n",
    "### Our current understanding of RNNs\n",
    "![](https://github.com/robert-alvarez/pytorch_tutorial/blob/master/img/LSTM_next_character.png?raw=1)\n",
    "\n",
    "\n",
    "### Reminder\n",
    "\n",
    "![](https://github.com/robert-alvarez/pytorch_tutorial/blob/master/img/rnn_unrolling.png?raw=1)\n",
    "\n",
    "#### \"RNNs have a hidden state that feeds back into the cell at the next time step\""
   ]
  },
  {
   "cell_type": "markdown",
   "metadata": {
    "colab_type": "text",
    "id": "hIRTKNA1GgCD"
   },
   "source": [
    "## What is actually going on?\n",
    "\n",
    "### Example with sequence length 5"
   ]
  },
  {
   "cell_type": "markdown",
   "metadata": {
    "colab_type": "text",
    "id": "KOayyo5tGgCE"
   },
   "source": [
    "![](https://github.com/robert-alvarez/pytorch_tutorial/blob/master/img/rnn_forward.png?raw=1)"
   ]
  },
  {
   "cell_type": "markdown",
   "metadata": {
    "colab_type": "text",
    "id": "twrwBIcAGgCE"
   },
   "source": [
    "### What about the backwards pass?"
   ]
  },
  {
   "cell_type": "markdown",
   "metadata": {
    "colab_type": "text",
    "id": "1nB67_lIGgCF"
   },
   "source": [
    "![](https://github.com/robert-alvarez/pytorch_tutorial/blob/master/img/rnn_backward.png?raw=1)"
   ]
  },
  {
   "cell_type": "markdown",
   "metadata": {
    "colab_type": "text",
    "id": "wlGm7iiHGgCG"
   },
   "source": [
    "## Preprocessing"
   ]
  },
  {
   "cell_type": "code",
   "execution_count": 0,
   "metadata": {
    "colab": {},
    "colab_type": "code",
    "id": "iM6WGm5AGgCG"
   },
   "outputs": [],
   "source": [
    "# Read in text and change unicode characters to ASCII\n",
    "import unidecode\n",
    "import string\n",
    "import random\n",
    "import re\n",
    "\n",
    "all_characters = string.printable\n",
    "n_characters = len(all_characters)"
   ]
  },
  {
   "cell_type": "code",
   "execution_count": 25,
   "metadata": {
    "colab": {
     "base_uri": "https://localhost:8080/",
     "height": 34
    },
    "colab_type": "code",
    "id": "xupnkDnRGgCH",
    "outputId": "02187e04-ef91-4d4b-8361-dfb538373d16"
   },
   "outputs": [
    {
     "name": "stdout",
     "output_type": "stream",
     "text": [
      "file_len = 99993\n"
     ]
    }
   ],
   "source": [
    "# read in file to train RNN\n",
    "file = unidecode.unidecode(open('data/shakespeare.txt').read())\n",
    "file_len = len(file)\n",
    "print(f'file_len = {file_len}')"
   ]
  },
  {
   "cell_type": "markdown",
   "metadata": {
    "colab_type": "text",
    "id": "Khz9mtOdGgCH"
   },
   "source": [
    "To give our model inputs from this large string of text, we'll split it up into chunks"
   ]
  },
  {
   "cell_type": "code",
   "execution_count": 26,
   "metadata": {
    "colab": {
     "base_uri": "https://localhost:8080/",
     "height": 238
    },
    "colab_type": "code",
    "id": "9A5NLQT2GgCI",
    "outputId": "b6f53ff9-2f91-4b54-ae20-f5f71b92315e"
   },
   "outputs": [
    {
     "name": "stdout",
     "output_type": "stream",
     "text": [
      "osterity,\n",
      "Your temples as a doting company as they eat;\n",
      "Then what is Nature to the Athenian,\n",
      "Only added my soul, who made not senators\n",
      "That in my good command makes thee for his bullset plays:\n",
      "If thou dost go.\n",
      "\n",
      "VALENTINE:\n",
      "Be called his chiefest hath deserved\n",
      "The fland in that almost effected suit,\n",
      "His unitanced colour cains again, love golden grass:\n",
      "The business must pursue the head\n",
      "Whose man's bas\n"
     ]
    }
   ],
   "source": [
    "chunk_len = 400\n",
    "\n",
    "def random_chunk():\n",
    "    start_index = random.randint(0, file_len - chunk_len)\n",
    "    end_index = start_index + chunk_len + 1\n",
    "    return file[start_index:end_index]\n",
    "\n",
    "print(random_chunk())"
   ]
  },
  {
   "cell_type": "markdown",
   "metadata": {
    "colab_type": "text",
    "id": "_OWNsoL3GgCI"
   },
   "source": [
    "## Build Model\n",
    "\n",
    "This model will take as input the character for step $t$ and is expected to output the next character for step $t+1$. There are three layers - one linear layer that encodes the input character into an internal state, one GRU layer (which may itself have multiple layers) that operates on that internal state and a hidden state, and a decoder layer that outputs the probability distribution."
   ]
  },
  {
   "cell_type": "code",
   "execution_count": 0,
   "metadata": {
    "colab": {},
    "colab_type": "code",
    "id": "u-r7KN2wGgCJ"
   },
   "outputs": [],
   "source": [
    "class RNN(nn.Module):\n",
    "    def __init__(self, input_size, hidden_size, output_size, n_layers=1):\n",
    "        super(RNN, self).__init__()\n",
    "        self.input_size = input_size\n",
    "        self.hidden_size = hidden_size\n",
    "        self.output_size = output_size\n",
    "        self.n_layers = n_layers\n",
    "        \n",
    "        self.encoder = nn.Embedding(input_size, hidden_size)\n",
    "        self.gru = nn.GRU(hidden_size, hidden_size, n_layers)\n",
    "        self.decoder = nn.Linear(hidden_size, output_size)\n",
    "        \n",
    "    def forward(self, input, hidden):\n",
    "        output = self.encoder(input.view(1, -1))\n",
    "        output, hidden = self.gru(output.view(1, 1, -1), hidden)\n",
    "        output = self.decoder(output.view(1, -1))\n",
    "        \n",
    "        return output, hidden\n",
    "    \n",
    "    def init_hidden(self):\n",
    "        return Variable(torch.randn(self.n_layers, 1, self.hidden_size))"
   ]
  },
  {
   "cell_type": "markdown",
   "metadata": {
    "colab_type": "text",
    "id": "5nLTiV6GGgCK"
   },
   "source": [
    "## Inputs and Targets\n",
    "\n",
    "Now that we've defined our model, we need to give it both input data, via our chunks, and our target data. Each character is one-hot encoded to the vocab size "
   ]
  },
  {
   "cell_type": "code",
   "execution_count": 28,
   "metadata": {
    "colab": {
     "base_uri": "https://localhost:8080/",
     "height": 34
    },
    "colab_type": "code",
    "id": "hsc3nazgGgCL",
    "outputId": "599f5ac9-df07-45fc-c43d-28d26b605617"
   },
   "outputs": [
    {
     "name": "stdout",
     "output_type": "stream",
     "text": [
      "tensor([48, 14, 29, 18, 28,  0,  1,  2,  3, 10, 11, 12, 35, 36, 37, 38])\n"
     ]
    }
   ],
   "source": [
    "def char2tensor(string):\n",
    "    tensor = torch.zeros(len(string)).long()\n",
    "    for char in range(len(string)):\n",
    "        if string[char] in all_characters:\n",
    "            tensor[char] = all_characters.index(string[char])\n",
    "        else:\n",
    "            tensor[char] = 94 #predict space if character unknown\n",
    "        \n",
    "    return Variable(tensor)\n",
    "\n",
    "# Let's see it in action.\n",
    "print(char2tensor('Metis0123abczABC'))"
   ]
  },
  {
   "cell_type": "markdown",
   "metadata": {
    "colab_type": "text",
    "id": "kpm7Yr0hGgCM"
   },
   "source": [
    "Now that we can generate chunks of data, we can build our inputs and targets.\n",
    "\n",
    "Our inputs will be all of the chunk except for the last letter. \n",
    "\n",
    "Our target will be all of the chunk except for the first letter."
   ]
  },
  {
   "cell_type": "code",
   "execution_count": 0,
   "metadata": {
    "colab": {},
    "colab_type": "code",
    "id": "604q1MnvGgCN"
   },
   "outputs": [],
   "source": [
    "def random_training_set():\n",
    "    chunk = random_chunk()\n",
    "    inp = char2tensor(chunk[:-1])\n",
    "    target = char2tensor(chunk[1:])\n",
    "    return inp, target"
   ]
  },
  {
   "cell_type": "markdown",
   "metadata": {
    "colab_type": "text",
    "id": "3xAT17xjGgCO"
   },
   "source": [
    "## Evaluating the Model\n",
    "\n",
    "To evaluate the network we will feed one character at a time, use the outputs of the network as a probability distribution for the next character, and repeat. To start generation we pass a priming string to start building up the hidden state, from which we then generate one character at a time."
   ]
  },
  {
   "cell_type": "code",
   "execution_count": 0,
   "metadata": {
    "colab": {},
    "colab_type": "code",
    "id": "nCo_nNqcGgCO"
   },
   "outputs": [],
   "source": [
    "def evaluate(model, prime_str='A', predict_len=100, temperature=0.8):\n",
    "    \n",
    "    hidden = model.init_hidden()\n",
    "    prime_input = char2tensor(prime_str)\n",
    "    predicted = prime_str\n",
    "    \n",
    "    # use priming string to build up hidden state\n",
    "    \n",
    "    for p in range(len(prime_str) - 1):\n",
    "        _, hidden = model(prime_input[p], hidden)\n",
    "    inp = prime_input[-1]\n",
    "    \n",
    "    for p in range(predict_len):\n",
    "        output, hidden = model(inp, hidden)\n",
    "        \n",
    "        # Sample from the network as a multinomial distribution\n",
    "        output_dist = output.data.view(-1).div(temperature).exp()\n",
    "        top_i = torch.multinomial(output_dist, 1)[0]\n",
    "        \n",
    "        # Add predicted character to string and use as next input\n",
    "        predicted_char = all_characters[top_i]\n",
    "        predicted += predicted_char\n",
    "        inp = char2tensor(predicted_char)\n",
    "        \n",
    "    return predicted"
   ]
  },
  {
   "cell_type": "markdown",
   "metadata": {
    "colab_type": "text",
    "id": "ZPvYfcdNGgCQ"
   },
   "source": [
    "## Training"
   ]
  },
  {
   "cell_type": "code",
   "execution_count": 0,
   "metadata": {
    "colab": {},
    "colab_type": "code",
    "id": "pl2H9fB0GgCQ"
   },
   "outputs": [],
   "source": [
    "# helper function\n",
    "import time, math\n",
    "\n",
    "def time_since(since):\n",
    "    s = time.time() - since\n",
    "    m = math.floor(s/60)\n",
    "    s -= m*60\n",
    "    return '%dm %ds' % (m, s)"
   ]
  },
  {
   "cell_type": "code",
   "execution_count": 0,
   "metadata": {
    "colab": {},
    "colab_type": "code",
    "id": "fJyCmFXNGgCS"
   },
   "outputs": [],
   "source": [
    "# The actual training part\n",
    "def train(inp, target):\n",
    "    hidden = model.init_hidden()\n",
    "    model.zero_grad()\n",
    "    loss = 0\n",
    "\n",
    "    for char in range(chunk_len):\n",
    "        output, hidden = model(inp[char], hidden)\n",
    "        loss += criterion(output, target[char].unsqueeze(0))\n",
    "\n",
    "    loss.backward()\n",
    "    model_optimizer.step()\n",
    "\n",
    "    return loss.data.item() / chunk_len"
   ]
  },
  {
   "cell_type": "code",
   "execution_count": 35,
   "metadata": {
    "colab": {
     "base_uri": "https://localhost:8080/",
     "height": 731
    },
    "colab_type": "code",
    "id": "QPhkbpuRGgCT",
    "outputId": "f8420114-d2bb-4cd7-e945-9fb63c854f86"
   },
   "outputs": [
    {
     "name": "stdout",
     "output_type": "stream",
     "text": [
      "[0m 1s (1 10%) 4.6183]\n",
      "A E+\tdg'X3+S\f",
      "N21'Mo\r",
      "%*-Z-7=t.U0Q[0%{gTxfm5<k$T'(S\t}*-{fW;fHDo-HE;Ao>\u000b",
      "_QVE\n",
      "0;**]\f",
      "6{)).f1cGyUVL&UZ}5dG,k \n",
      "\n",
      "[0m 3s (2 20%) 4.4677]\n",
      "A j;<%Mwl.Gy9r.r.1T{Fb`u_Iy5\\K?'&powIw\\tPEE\t#=7'wrc)v?1g('>LkO3r5Ou6bC\f",
      "QO4@\tDa0!>:QhaNkK5Q>e2;eiqPFhqm \n",
      "\n",
      "[0m 4s (3 30%) 4.2802]\n",
      "A %MF*C-^ZA qsXuxE8fiRR\" ]+YTz!Zn{&uKtwE!BQ!mTKrv(R0yl4PYwwBB\"w*~{au-~l>q;eC,ox;ia(WDZJ\tQ\f",
      "rf=Wn_cb\u000b",
      " V| \n",
      "\n",
      "[0m 6s (4 40%) 4.0684]\n",
      "A ,<3 SDx l -Lkln$'L\"kJ>_L;\u000b",
      "goG{\n",
      "0sj2n \n",
      "\n",
      "[0m 7s (5 50%) 3.7783]\n",
      "A M@.PC2f:vdA&FZ tAye K  f  abt\tg u d\u000b",
      "r[iKOy=   oi oon i s  o r  ot r sl   _r\t  t s\t -$'T?PQt hl2Irai\n",
      " \n",
      "\n",
      "[0m 9s (6 60%) 3.5293]\n",
      "A *1ltico/j -a  mP\t rlry   n o u se  eee en  a \n",
      " xlc  wye  eIo  us4 ] nior\" d i 7 ae  -cnl en sa C l t \n",
      "\n",
      "[0m 10s (7 70%) 3.3052]\n",
      "A ma\n",
      "Hhd t!ni   ry po r n n li mdaee i    a\n",
      " tetie nnmater\n",
      " adr  ts~e tra  ve en  lntnom\n",
      " a  oo  e eo  \n",
      "\n",
      "[0m 12s (8 80%) 3.3958]\n",
      "A avldesttuectevenlIeoI.rr tsne\n",
      "e is ato eeshu coa P,i sn rcyeyrr n onre matebd s eeiueni saleeeame er \n",
      "\n",
      "[0m 14s (9 90%) 3.3271]\n",
      "ldvotaWmsrsnt itresmd  r ieaieso seiiln aol a eds td\n",
      "h3 ud hdeasltghfG  \n",
      "\n",
      "[0m 15s (10 100%) 3.2757]\n",
      "A tsfp  saoa \n",
      " l/hrsnaotmenoyrtu atann iatssitoeergB a moorteu umtaK ea*dva,stralwwAesoeis nouo aethi\n",
      " \n",
      "\n"
     ]
    }
   ],
   "source": [
    "# parameters\n",
    "n_epochs = 10\n",
    "print_every = 1\n",
    "plot_every = 10\n",
    "hidden_size = 256\n",
    "n_layers = 2\n",
    "learning_rate = 0.001\n",
    "\n",
    "# model declaration\n",
    "model = RNN(n_characters, hidden_size, n_characters, n_layers)\n",
    "model_optimizer = torch.optim.Adam(model.parameters(), lr=learning_rate)\n",
    "criterion = nn.CrossEntropyLoss()\n",
    "\n",
    "start = time.time()\n",
    "all_losses = []\n",
    "loss_avg = 0\n",
    "\n",
    "for epoch in range(1, n_epochs + 1):\n",
    "    loss = train(*random_training_set())       \n",
    "    loss_avg += loss\n",
    "\n",
    "    if epoch % print_every == 0:\n",
    "        print('[%s (%d %d%%) %.4f]' % (time_since(start), epoch, epoch / n_epochs * 100, loss))\n",
    "        print(evaluate(model, 'A ', 100), '\\n')\n",
    "\n",
    "    if epoch % plot_every == 0:\n",
    "        all_losses.append(loss_avg / plot_every)\n",
    "        loss_avg = 0"
   ]
  },
  {
   "cell_type": "code",
   "execution_count": 36,
   "metadata": {
    "colab": {
     "base_uri": "https://localhost:8080/",
     "height": 282
    },
    "colab_type": "code",
    "id": "bcmIR7FhGgCU",
    "outputId": "79a5b8fb-989d-4ff0-a3a3-9f38a673cac1"
   },
   "outputs": [
    {
     "data": {
      "text/plain": [
       "[<matplotlib.lines.Line2D at 0x7efdbf537518>]"
      ]
     },
     "execution_count": 36,
     "metadata": {
      "tags": []
     },
     "output_type": "execute_result"
    },
    {
     "data": {
      "image/png": "[encoded data removed]",
      "text/plain": [
       "<matplotlib.figure.Figure at 0x7efdc3798710>"
      ]
     },
     "metadata": {
      "tags": []
     },
     "output_type": "display_data"
    }
   ],
   "source": [
    "import matplotlib.pyplot as plt\n",
    "import matplotlib.ticker as ticker\n",
    "%matplotlib inline\n",
    "\n",
    "plt.figure()\n",
    "plt.plot(all_losses)"
   ]
  },
  {
   "cell_type": "markdown",
   "metadata": {
    "colab_type": "text",
    "id": "vSNwWrOVGgCW"
   },
   "source": [
    "### Load pre-trained models"
   ]
  },
  {
   "cell_type": "code",
   "execution_count": 0,
   "metadata": {
    "colab": {},
    "colab_type": "code",
    "id": "YOLdy9wgGgCW"
   },
   "outputs": [],
   "source": [
    "trump = torch.load('data/potus.pt')\n",
    "#billy = torch.load('models/shakespeare.pt')"
   ]
  },
  {
   "cell_type": "code",
   "execution_count": 38,
   "metadata": {
    "colab": {
     "base_uri": "https://localhost:8080/",
     "height": 76
    },
    "colab_type": "code",
    "id": "dP6xz_rEGgCX",
    "outputId": "e7720c2a-9dc0-460c-f84f-f5002f986119"
   },
   "outputs": [
    {
     "name": "stdout",
     "output_type": "stream",
     "text": [
      "Mueller Witch Hunt! I a paile families are isterage are gounduse lotes offore way sail at real of this discans in Presidens. Millions!\n",
      "In who live estid no have\n"
     ]
    }
   ],
   "source": [
    "# Evaluate Trump\n",
    "print(evaluate(trump, 'Mueller Witch Hunt! ', predict_len=140, temperature=0.7))"
   ]
  },
  {
   "cell_type": "code",
   "execution_count": 0,
   "metadata": {
    "colab": {},
    "colab_type": "code",
    "id": "1wvdNYY7GgCX"
   },
   "outputs": [],
   "source": [
    "# Evaluate Billy Shakespeare\n",
    "print(evaluate(billy, 'To be or not to be: ', predict_len=200, temperature=0.5))"
   ]
  },
  {
   "cell_type": "markdown",
   "metadata": {
    "colab_type": "text",
    "id": "l3_g1a3KGgCZ"
   },
   "source": [
    "# Resources\n",
    "\n",
    "[tensor images](https://hackernoon.com/learning-ai-if-you-suck-at-math-p4-tensors-illustrated-with-cats-27f0002c9b32)\n",
    "\n",
    "[alien vs predator](https://deepsense.ai/keras-vs-pytorch-avp-transfer-learning/)\n",
    "\n",
    "[unreasonable reffectiveness of neural nets](http://karpathy.github.io/2015/05/21/rnn-effectiveness/)\n",
    "\n",
    "[pytorch.org](https://pytorch.org/tutorials/beginner/deep_learning_60min_blitz.html)\n",
    "\n",
    "[Richard Galvez](https://richardagalvez.github.io/)\n"
   ]
  },
  {
   "cell_type": "code",
   "execution_count": 0,
   "metadata": {
    "colab": {},
    "colab_type": "code",
    "id": "e4H8zG48GgCZ"
   },
   "outputs": [],
   "source": []
  }
 ],
 "metadata": {
  "accelerator": "GPU",
  "colab": {
   "name": "Copy of PyTorch_Tutorial_Student.ipynb",
   "provenance": [],
   "toc_visible": true,
   "version": "0.3.2"
  },
  "kernelspec": {
   "display_name": "Python 3",
   "language": "python",
   "name": "python3"
  },
  "language_info": {
   "codemirror_mode": {
    "name": "ipython",
    "version": 3
   },
   "file_extension": ".py",
   "mimetype": "text/x-python",
   "name": "python",
   "nbconvert_exporter": "python",
   "pygments_lexer": "ipython3",
   "version": "3.6.4"
  }
 },
 "nbformat": 4,
 "nbformat_minor": 1
}
